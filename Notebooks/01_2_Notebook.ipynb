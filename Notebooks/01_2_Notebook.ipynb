{
 "cells": [
  {
   "cell_type": "markdown",
   "metadata": {
    "id": "6YBtk_rG2G0Y"
   },
   "source": [
    "![Dataging](Python_IFFE\\resources\\Dataging.png)\n",
    "# Notebook\n",
    "El Notebook, está compuesto por celdas, que básicamente pueden ser de dos tipos: Código y Markdown.\n",
    "La ejecución del código se realiza utilizando un Kernel, que en nuestro caso será IPython\n",
    "Podemos mover las celdas, limpiar sus resultados y obviamente ejecutarlas. \n",
    "\n",
    "## Ejecución de celdas\n",
    "Cuando lanzamos la ejecución de la primera celda, se establece una sesión en el Kernel, que se mantiene hasta que la cerremos. \n",
    "\n",
    "Para ejecutar una celda de código, podemos hacer utilizando:\n",
    "\n",
    "* Botón de play\n",
    "* Ctrl+Enter para ejecutar la celda\n",
    "* Shift+Enter para ejecutar la celda y movernos a la siguiente\n",
    "* Alt+Enter para ejecutar la celda e insertar una nueva\n"
   ]
  },
  {
   "cell_type": "code",
   "execution_count": null,
   "metadata": {
    "id": "942xEe2t2G0g"
   },
   "outputs": [],
   "source": [
    "a = 1\n",
    "a"
   ]
  },
  {
   "cell_type": "code",
   "execution_count": null,
   "metadata": {
    "id": "CCBuFLOcLINj"
   },
   "outputs": [],
   "source": [
    "from google.colab import drive\n",
    "drive.mount('/content/drive')"
   ]
  },
  {
   "cell_type": "markdown",
   "metadata": {
    "id": "n4VPxdUI2G0i"
   },
   "source": [
    "## Alias del sistema\n",
    "\n",
    "En una celda de código, podemos ejecutar comandos de sistema utilizando el símbolo de cierre de admiración !"
   ]
  },
  {
   "cell_type": "code",
   "execution_count": null,
   "metadata": {
    "id": "rUfSLsBN2G0i"
   },
   "outputs": [],
   "source": [
    "!mkdir \"Prueba\""
   ]
  },
  {
   "cell_type": "markdown",
   "metadata": {
    "id": "gBoJcmAv2G0j"
   },
   "source": [
    "## Celdas \"Mágicas\" (Jupyter Magics)\n",
    "\n",
    "Mini lenguaje de comandos que cambia el comportamiento de la ejecución de las celdas. Existen de dos tipos:\n",
    "* En línea, con \"%\"\n",
    "* De celda, con \"%%\"\n",
    "\n",
    "Todo el detalle en: https://nbviewer.jupyter.org/github/ipython/ipython/blob/1.x/examples/notebooks/Cell%20Magics.ipynb "
   ]
  },
  {
   "cell_type": "code",
   "execution_count": null,
   "metadata": {
    "id": "awgi2NzH2G0j"
   },
   "outputs": [],
   "source": [
    "%lsmagic"
   ]
  },
  {
   "cell_type": "code",
   "execution_count": null,
   "metadata": {
    "id": "O6OFpbeQ2G0j"
   },
   "outputs": [],
   "source": [
    "%timeit 10+10"
   ]
  },
  {
   "cell_type": "code",
   "execution_count": null,
   "metadata": {
    "id": "L4rLAaAA2G0k"
   },
   "outputs": [],
   "source": [
    "# Embeber HTML\n",
    "\n",
    "%%html\n",
    "<marquee style='width: 30%; color: blue;'><b>Whee!</b></marquee>"
   ]
  }
 ],
 "metadata": {
  "colab": {
   "collapsed_sections": [],
   "name": "01_2_Notebook.ipynb",
   "provenance": [],
   "toc_visible": true
  },
  "kernelspec": {
   "display_name": "Python 3.8.5 64-bit",
   "name": "python38264bit9f6a0c0940864159af1be68610d7599f"
  },
  "language_info": {
   "codemirror_mode": {
    "name": "ipython",
    "version": 3
   },
   "file_extension": ".py",
   "mimetype": "text/x-python",
   "name": "python",
   "nbconvert_exporter": "python",
   "pygments_lexer": "ipython3",
   "version": "3.8.5"
  },
  "metadata": {
   "interpreter": {
    "hash": "18f07aa1f218bd815af44c10d679f476605f722da72676851e9ef086401d84b6"
   }
  },
  "orig_nbformat": 2
 },
 "nbformat": 4,
 "nbformat_minor": 0
}
