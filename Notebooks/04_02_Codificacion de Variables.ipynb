{
 "cells": [
  {
   "cell_type": "markdown",
   "metadata": {
    "azdata_cell_guid": "6ff08df4-5bc0-47c1-ba66-20206ccc00b1",
    "id": "4Gwj9IQV9v7n"
   },
   "source": [
    "![Dataging](https://raw.githubusercontent.com/dataging/public-resources/61263724aea5476ba5ebf38478beada519091957/logodataging.png)"
   ]
  },
  {
   "cell_type": "markdown",
   "metadata": {
    "azdata_cell_guid": "023fc82f-0fcd-4826-a065-93ab4945fb60",
    "id": "lMj-AMuwwXm_"
   },
   "source": [
    "# Codificación de Variables Categóricas"
   ]
  },
  {
   "cell_type": "code",
   "execution_count": 1,
   "metadata": {
    "azdata_cell_guid": "65afc185-cd26-4814-8eda-5236c18bbb92",
    "executionInfo": {
     "elapsed": 633,
     "status": "ok",
     "timestamp": 1621070836138,
     "user": {
      "displayName": "Machine Learning",
      "photoUrl": "https://lh3.googleusercontent.com/a-/AOh14GhwBRPV9dlAQMjYJcrnyebdRqxGjgfWs74B3NV3=s64",
      "userId": "05609927355646341864"
     },
     "user_tz": -120
    },
    "id": "JcxP4Z9GwSad"
   },
   "outputs": [],
   "source": [
    "import pandas as pd\n",
    "import sqlite3\n",
    "import numpy as np"
   ]
  },
  {
   "cell_type": "code",
   "execution_count": 2,
   "metadata": {
    "colab": {
     "base_uri": "https://localhost:8080/"
    },
    "executionInfo": {
     "elapsed": 31769,
     "status": "ok",
     "timestamp": 1621070896094,
     "user": {
      "displayName": "Machine Learning",
      "photoUrl": "https://lh3.googleusercontent.com/a-/AOh14GhwBRPV9dlAQMjYJcrnyebdRqxGjgfWs74B3NV3=s64",
      "userId": "05609927355646341864"
     },
     "user_tz": -120
    },
    "id": "DcqUart-9zIB",
    "outputId": "45bc5202-8f9b-47e3-c002-e59bd80b1d4c"
   },
   "outputs": [
    {
     "name": "stdout",
     "output_type": "stream",
     "text": [
      "Mounted at /content/drive\n"
     ]
    }
   ],
   "source": [
    "from google.colab import drive\n",
    "drive.mount('/content/drive')"
   ]
  },
  {
   "cell_type": "code",
   "execution_count": 3,
   "metadata": {
    "colab": {
     "base_uri": "https://localhost:8080/",
     "height": 308
    },
    "executionInfo": {
     "elapsed": 1597,
     "status": "ok",
     "timestamp": 1621070902849,
     "user": {
      "displayName": "Machine Learning",
      "photoUrl": "https://lh3.googleusercontent.com/a-/AOh14GhwBRPV9dlAQMjYJcrnyebdRqxGjgfWs74B3NV3=s64",
      "userId": "05609927355646341864"
     },
     "user_tz": -120
    },
    "id": "hUIDN-cs9v7v",
    "outputId": "e6386a5d-0e22-4d42-9a9b-b132177b6caa"
   },
   "outputs": [
    {
     "data": {
      "text/html": [
       "<div>\n",
       "<style scoped>\n",
       "    .dataframe tbody tr th:only-of-type {\n",
       "        vertical-align: middle;\n",
       "    }\n",
       "\n",
       "    .dataframe tbody tr th {\n",
       "        vertical-align: top;\n",
       "    }\n",
       "\n",
       "    .dataframe thead th {\n",
       "        text-align: right;\n",
       "    }\n",
       "</style>\n",
       "<table border=\"1\" class=\"dataframe\">\n",
       "  <thead>\n",
       "    <tr style=\"text-align: right;\">\n",
       "      <th></th>\n",
       "      <th>CodCliente</th>\n",
       "      <th>FechaNacimiento</th>\n",
       "      <th>EstadoCivil</th>\n",
       "      <th>Sexo</th>\n",
       "      <th>IngresosAnuales</th>\n",
       "      <th>HijosACargo</th>\n",
       "      <th>NivelAcademico</th>\n",
       "      <th>Ocupacion</th>\n",
       "    </tr>\n",
       "  </thead>\n",
       "  <tbody>\n",
       "    <tr>\n",
       "      <th>0</th>\n",
       "      <td>000020</td>\n",
       "      <td>1976-04-08</td>\n",
       "      <td>M</td>\n",
       "      <td>M</td>\n",
       "      <td>90000.0</td>\n",
       "      <td>0.0</td>\n",
       "      <td>Licenciatura</td>\n",
       "      <td>Profesional especializado</td>\n",
       "    </tr>\n",
       "    <tr>\n",
       "      <th>1</th>\n",
       "      <td>000026</td>\n",
       "      <td>1975-05-14</td>\n",
       "      <td>S</td>\n",
       "      <td>M</td>\n",
       "      <td>60000.0</td>\n",
       "      <td>3.0</td>\n",
       "      <td>Licenciatura</td>\n",
       "      <td>Profesional especializado</td>\n",
       "    </tr>\n",
       "    <tr>\n",
       "      <th>2</th>\n",
       "      <td>000029</td>\n",
       "      <td>1975-08-12</td>\n",
       "      <td>M</td>\n",
       "      <td>M</td>\n",
       "      <td>60000.0</td>\n",
       "      <td>3.0</td>\n",
       "      <td>Licenciatura</td>\n",
       "      <td>Profesional especializado</td>\n",
       "    </tr>\n",
       "    <tr>\n",
       "      <th>3</th>\n",
       "      <td>000046</td>\n",
       "      <td>1978-02-15</td>\n",
       "      <td>S</td>\n",
       "      <td>F</td>\n",
       "      <td>70000.0</td>\n",
       "      <td>0.0</td>\n",
       "      <td>Licenciatura</td>\n",
       "      <td>Profesional especializado</td>\n",
       "    </tr>\n",
       "    <tr>\n",
       "      <th>4</th>\n",
       "      <td>000047</td>\n",
       "      <td>1978-08-08</td>\n",
       "      <td>S</td>\n",
       "      <td>F</td>\n",
       "      <td>80000.0</td>\n",
       "      <td>5.0</td>\n",
       "      <td>Licenciatura</td>\n",
       "      <td>Profesional especializado</td>\n",
       "    </tr>\n",
       "  </tbody>\n",
       "</table>\n",
       "</div>"
      ],
      "text/plain": [
       "  CodCliente FechaNacimiento  ... NivelAcademico                  Ocupacion\n",
       "0     000020      1976-04-08  ...   Licenciatura  Profesional especializado\n",
       "1     000026      1975-05-14  ...   Licenciatura  Profesional especializado\n",
       "2     000029      1975-08-12  ...   Licenciatura  Profesional especializado\n",
       "3     000046      1978-02-15  ...   Licenciatura  Profesional especializado\n",
       "4     000047      1978-08-08  ...   Licenciatura  Profesional especializado\n",
       "\n",
       "[5 rows x 8 columns]"
      ]
     },
     "execution_count": 3,
     "metadata": {
      "tags": []
     },
     "output_type": "execute_result"
    }
   ],
   "source": [
    "conn = sqlite3.connect('/content/drive/MyDrive/Datos/Tiendas24H.sqlite')\n",
    "query = \"select c.CodCliente, FechaNacimiento, EstadoCivil, Sexo,IngresosAnuales,HijosACargo, N.NivelAcademico, O.Ocupacion from clientes c inner join NivelAcademico N    on c.NivelAcademico = N.Codigo     inner join Ocupacion O on c.Ocupacion = o.Codigo\"\n",
    "\n",
    "df = pd.read_sql_query(query,conn)\n",
    "\n",
    "df.head()"
   ]
  },
  {
   "cell_type": "code",
   "execution_count": 4,
   "metadata": {
    "colab": {
     "base_uri": "https://localhost:8080/"
    },
    "executionInfo": {
     "elapsed": 613,
     "status": "ok",
     "timestamp": 1621070988538,
     "user": {
      "displayName": "Machine Learning",
      "photoUrl": "https://lh3.googleusercontent.com/a-/AOh14GhwBRPV9dlAQMjYJcrnyebdRqxGjgfWs74B3NV3=s64",
      "userId": "05609927355646341864"
     },
     "user_tz": -120
    },
    "id": "MlolYVJN9v7w",
    "outputId": "0f64b3c0-555b-48cc-a12d-e4fd8e9df66d"
   },
   "outputs": [
    {
     "name": "stdout",
     "output_type": "stream",
     "text": [
      "<class 'pandas.core.frame.DataFrame'>\n",
      "RangeIndex: 2441 entries, 0 to 2440\n",
      "Data columns (total 8 columns):\n",
      " #   Column           Non-Null Count  Dtype  \n",
      "---  ------           --------------  -----  \n",
      " 0   CodCliente       2441 non-null   object \n",
      " 1   FechaNacimiento  2441 non-null   object \n",
      " 2   EstadoCivil      2440 non-null   object \n",
      " 3   Sexo             2440 non-null   object \n",
      " 4   IngresosAnuales  2440 non-null   float64\n",
      " 5   HijosACargo      2440 non-null   float64\n",
      " 6   NivelAcademico   2440 non-null   object \n",
      " 7   Ocupacion        2440 non-null   object \n",
      "dtypes: float64(2), object(6)\n",
      "memory usage: 152.7+ KB\n"
     ]
    }
   ],
   "source": [
    "df.info()"
   ]
  },
  {
   "cell_type": "code",
   "execution_count": 5,
   "metadata": {
    "colab": {
     "base_uri": "https://localhost:8080/"
    },
    "executionInfo": {
     "elapsed": 618,
     "status": "ok",
     "timestamp": 1621071032388,
     "user": {
      "displayName": "Machine Learning",
      "photoUrl": "https://lh3.googleusercontent.com/a-/AOh14GhwBRPV9dlAQMjYJcrnyebdRqxGjgfWs74B3NV3=s64",
      "userId": "05609927355646341864"
     },
     "user_tz": -120
    },
    "id": "PnjlI0iX9v7w",
    "outputId": "88a3cf86-b459-48e1-eb18-13eea8b7e405"
   },
   "outputs": [
    {
     "data": {
      "text/plain": [
       "array(['M', 'F', None], dtype=object)"
      ]
     },
     "execution_count": 5,
     "metadata": {
      "tags": []
     },
     "output_type": "execute_result"
    }
   ],
   "source": [
    "df.Sexo.unique()"
   ]
  },
  {
   "cell_type": "code",
   "execution_count": 6,
   "metadata": {
    "colab": {
     "base_uri": "https://localhost:8080/"
    },
    "executionInfo": {
     "elapsed": 546,
     "status": "ok",
     "timestamp": 1621071034355,
     "user": {
      "displayName": "Machine Learning",
      "photoUrl": "https://lh3.googleusercontent.com/a-/AOh14GhwBRPV9dlAQMjYJcrnyebdRqxGjgfWs74B3NV3=s64",
      "userId": "05609927355646341864"
     },
     "user_tz": -120
    },
    "id": "1Gvxs_DU9v7w",
    "outputId": "a0de8f5a-8f34-47b5-b5a3-9a4ef334ba8d"
   },
   "outputs": [
    {
     "data": {
      "text/plain": [
       "CodCliente         0\n",
       "FechaNacimiento    0\n",
       "EstadoCivil        1\n",
       "Sexo               1\n",
       "IngresosAnuales    1\n",
       "HijosACargo        1\n",
       "NivelAcademico     1\n",
       "Ocupacion          1\n",
       "dtype: int64"
      ]
     },
     "execution_count": 6,
     "metadata": {
      "tags": []
     },
     "output_type": "execute_result"
    }
   ],
   "source": [
    "df.isna().sum()"
   ]
  },
  {
   "cell_type": "code",
   "execution_count": 7,
   "metadata": {
    "executionInfo": {
     "elapsed": 571,
     "status": "ok",
     "timestamp": 1621071038190,
     "user": {
      "displayName": "Machine Learning",
      "photoUrl": "https://lh3.googleusercontent.com/a-/AOh14GhwBRPV9dlAQMjYJcrnyebdRqxGjgfWs74B3NV3=s64",
      "userId": "05609927355646341864"
     },
     "user_tz": -120
    },
    "id": "DeVos66u9v7x"
   },
   "outputs": [],
   "source": [
    "df.dropna(axis=0,inplace=True)"
   ]
  },
  {
   "cell_type": "code",
   "execution_count": 8,
   "metadata": {
    "executionInfo": {
     "elapsed": 1370,
     "status": "ok",
     "timestamp": 1621071063146,
     "user": {
      "displayName": "Machine Learning",
      "photoUrl": "https://lh3.googleusercontent.com/a-/AOh14GhwBRPV9dlAQMjYJcrnyebdRqxGjgfWs74B3NV3=s64",
      "userId": "05609927355646341864"
     },
     "user_tz": -120
    },
    "id": "0ocozyJ99v7x"
   },
   "outputs": [],
   "source": [
    "from sklearn.preprocessing import  OneHotEncoder,LabelEncoder\n",
    "\n",
    "le=LabelEncoder()\n",
    "df['EstadoCivil'] = le.fit_transform(df['EstadoCivil'])\n",
    "df['Sexo'] = le.fit_transform(df['Sexo'])\n"
   ]
  },
  {
   "cell_type": "code",
   "execution_count": null,
   "metadata": {
    "colab": {
     "base_uri": "https://localhost:8080/",
     "height": 195
    },
    "executionInfo": {
     "elapsed": 588,
     "status": "ok",
     "timestamp": 1621014088265,
     "user": {
      "displayName": "Machine Learning",
      "photoUrl": "https://lh3.googleusercontent.com/a-/AOh14GhwBRPV9dlAQMjYJcrnyebdRqxGjgfWs74B3NV3=s64",
      "userId": "05609927355646341864"
     },
     "user_tz": -120
    },
    "id": "bLe0aof79v7x",
    "outputId": "ace4c02d-a501-4bdf-dbf4-975a5c8c1e0b"
   },
   "outputs": [
    {
     "data": {
      "text/html": [
       "<div>\n",
       "<style scoped>\n",
       "    .dataframe tbody tr th:only-of-type {\n",
       "        vertical-align: middle;\n",
       "    }\n",
       "\n",
       "    .dataframe tbody tr th {\n",
       "        vertical-align: top;\n",
       "    }\n",
       "\n",
       "    .dataframe thead th {\n",
       "        text-align: right;\n",
       "    }\n",
       "</style>\n",
       "<table border=\"1\" class=\"dataframe\">\n",
       "  <thead>\n",
       "    <tr style=\"text-align: right;\">\n",
       "      <th></th>\n",
       "      <th>CodCliente</th>\n",
       "      <th>FechaNacimiento</th>\n",
       "      <th>EstadoCivil</th>\n",
       "      <th>Sexo</th>\n",
       "      <th>IngresosAnuales</th>\n",
       "      <th>HijosACargo</th>\n",
       "      <th>NivelAcademico</th>\n",
       "      <th>Ocupacion</th>\n",
       "    </tr>\n",
       "  </thead>\n",
       "  <tbody>\n",
       "    <tr>\n",
       "      <th>0</th>\n",
       "      <td>000020</td>\n",
       "      <td>1976-04-08</td>\n",
       "      <td>0</td>\n",
       "      <td>1</td>\n",
       "      <td>90000.0</td>\n",
       "      <td>0.0</td>\n",
       "      <td>Licenciatura</td>\n",
       "      <td>Profesional especializado</td>\n",
       "    </tr>\n",
       "    <tr>\n",
       "      <th>1</th>\n",
       "      <td>000026</td>\n",
       "      <td>1975-05-14</td>\n",
       "      <td>1</td>\n",
       "      <td>1</td>\n",
       "      <td>60000.0</td>\n",
       "      <td>3.0</td>\n",
       "      <td>Licenciatura</td>\n",
       "      <td>Profesional especializado</td>\n",
       "    </tr>\n",
       "    <tr>\n",
       "      <th>2</th>\n",
       "      <td>000029</td>\n",
       "      <td>1975-08-12</td>\n",
       "      <td>0</td>\n",
       "      <td>1</td>\n",
       "      <td>60000.0</td>\n",
       "      <td>3.0</td>\n",
       "      <td>Licenciatura</td>\n",
       "      <td>Profesional especializado</td>\n",
       "    </tr>\n",
       "    <tr>\n",
       "      <th>3</th>\n",
       "      <td>000046</td>\n",
       "      <td>1978-02-15</td>\n",
       "      <td>1</td>\n",
       "      <td>0</td>\n",
       "      <td>70000.0</td>\n",
       "      <td>0.0</td>\n",
       "      <td>Licenciatura</td>\n",
       "      <td>Profesional especializado</td>\n",
       "    </tr>\n",
       "    <tr>\n",
       "      <th>4</th>\n",
       "      <td>000047</td>\n",
       "      <td>1978-08-08</td>\n",
       "      <td>1</td>\n",
       "      <td>0</td>\n",
       "      <td>80000.0</td>\n",
       "      <td>5.0</td>\n",
       "      <td>Licenciatura</td>\n",
       "      <td>Profesional especializado</td>\n",
       "    </tr>\n",
       "  </tbody>\n",
       "</table>\n",
       "</div>"
      ],
      "text/plain": [
       "  CodCliente FechaNacimiento  ...  NivelAcademico                  Ocupacion\n",
       "0     000020      1976-04-08  ...    Licenciatura  Profesional especializado\n",
       "1     000026      1975-05-14  ...    Licenciatura  Profesional especializado\n",
       "2     000029      1975-08-12  ...    Licenciatura  Profesional especializado\n",
       "3     000046      1978-02-15  ...    Licenciatura  Profesional especializado\n",
       "4     000047      1978-08-08  ...    Licenciatura  Profesional especializado\n",
       "\n",
       "[5 rows x 8 columns]"
      ]
     },
     "execution_count": 9,
     "metadata": {
      "tags": []
     },
     "output_type": "execute_result"
    }
   ],
   "source": [
    "df.head()"
   ]
  },
  {
   "cell_type": "code",
   "execution_count": 9,
   "metadata": {
    "executionInfo": {
     "elapsed": 579,
     "status": "ok",
     "timestamp": 1621071157917,
     "user": {
      "displayName": "Machine Learning",
      "photoUrl": "https://lh3.googleusercontent.com/a-/AOh14GhwBRPV9dlAQMjYJcrnyebdRqxGjgfWs74B3NV3=s64",
      "userId": "05609927355646341864"
     },
     "user_tz": -120
    },
    "id": "Y4FFtjGU9v7y"
   },
   "outputs": [],
   "source": [
    "\n",
    "# Crear la instancia del Codificador OneHot\n",
    "enc = OneHotEncoder(handle_unknown='ignore')\n",
    "\n",
    "enc_df = pd.DataFrame(enc.fit_transform(df[['NivelAcademico']] ).toarray())\n",
    "\n"
   ]
  },
  {
   "cell_type": "code",
   "execution_count": 10,
   "metadata": {
    "colab": {
     "base_uri": "https://localhost:8080/",
     "height": 417
    },
    "executionInfo": {
     "elapsed": 607,
     "status": "ok",
     "timestamp": 1621071183432,
     "user": {
      "displayName": "Machine Learning",
      "photoUrl": "https://lh3.googleusercontent.com/a-/AOh14GhwBRPV9dlAQMjYJcrnyebdRqxGjgfWs74B3NV3=s64",
      "userId": "05609927355646341864"
     },
     "user_tz": -120
    },
    "id": "ls6KY92IXyXb",
    "outputId": "8d51d487-c706-48df-b174-3145c2827847"
   },
   "outputs": [
    {
     "data": {
      "text/html": [
       "<div>\n",
       "<style scoped>\n",
       "    .dataframe tbody tr th:only-of-type {\n",
       "        vertical-align: middle;\n",
       "    }\n",
       "\n",
       "    .dataframe tbody tr th {\n",
       "        vertical-align: top;\n",
       "    }\n",
       "\n",
       "    .dataframe thead th {\n",
       "        text-align: right;\n",
       "    }\n",
       "</style>\n",
       "<table border=\"1\" class=\"dataframe\">\n",
       "  <thead>\n",
       "    <tr style=\"text-align: right;\">\n",
       "      <th></th>\n",
       "      <th>0</th>\n",
       "      <th>1</th>\n",
       "      <th>2</th>\n",
       "      <th>3</th>\n",
       "      <th>4</th>\n",
       "    </tr>\n",
       "  </thead>\n",
       "  <tbody>\n",
       "    <tr>\n",
       "      <th>0</th>\n",
       "      <td>0.0</td>\n",
       "      <td>0.0</td>\n",
       "      <td>0.0</td>\n",
       "      <td>0.0</td>\n",
       "      <td>1.0</td>\n",
       "    </tr>\n",
       "    <tr>\n",
       "      <th>1</th>\n",
       "      <td>0.0</td>\n",
       "      <td>0.0</td>\n",
       "      <td>0.0</td>\n",
       "      <td>0.0</td>\n",
       "      <td>1.0</td>\n",
       "    </tr>\n",
       "    <tr>\n",
       "      <th>2</th>\n",
       "      <td>0.0</td>\n",
       "      <td>0.0</td>\n",
       "      <td>0.0</td>\n",
       "      <td>0.0</td>\n",
       "      <td>1.0</td>\n",
       "    </tr>\n",
       "    <tr>\n",
       "      <th>3</th>\n",
       "      <td>0.0</td>\n",
       "      <td>0.0</td>\n",
       "      <td>0.0</td>\n",
       "      <td>0.0</td>\n",
       "      <td>1.0</td>\n",
       "    </tr>\n",
       "    <tr>\n",
       "      <th>4</th>\n",
       "      <td>0.0</td>\n",
       "      <td>0.0</td>\n",
       "      <td>0.0</td>\n",
       "      <td>0.0</td>\n",
       "      <td>1.0</td>\n",
       "    </tr>\n",
       "    <tr>\n",
       "      <th>...</th>\n",
       "      <td>...</td>\n",
       "      <td>...</td>\n",
       "      <td>...</td>\n",
       "      <td>...</td>\n",
       "      <td>...</td>\n",
       "    </tr>\n",
       "    <tr>\n",
       "      <th>2435</th>\n",
       "      <td>0.0</td>\n",
       "      <td>0.0</td>\n",
       "      <td>1.0</td>\n",
       "      <td>0.0</td>\n",
       "      <td>0.0</td>\n",
       "    </tr>\n",
       "    <tr>\n",
       "      <th>2436</th>\n",
       "      <td>0.0</td>\n",
       "      <td>0.0</td>\n",
       "      <td>0.0</td>\n",
       "      <td>1.0</td>\n",
       "      <td>0.0</td>\n",
       "    </tr>\n",
       "    <tr>\n",
       "      <th>2437</th>\n",
       "      <td>0.0</td>\n",
       "      <td>0.0</td>\n",
       "      <td>0.0</td>\n",
       "      <td>1.0</td>\n",
       "      <td>0.0</td>\n",
       "    </tr>\n",
       "    <tr>\n",
       "      <th>2438</th>\n",
       "      <td>0.0</td>\n",
       "      <td>0.0</td>\n",
       "      <td>0.0</td>\n",
       "      <td>1.0</td>\n",
       "      <td>0.0</td>\n",
       "    </tr>\n",
       "    <tr>\n",
       "      <th>2439</th>\n",
       "      <td>0.0</td>\n",
       "      <td>0.0</td>\n",
       "      <td>0.0</td>\n",
       "      <td>0.0</td>\n",
       "      <td>1.0</td>\n",
       "    </tr>\n",
       "  </tbody>\n",
       "</table>\n",
       "<p>2440 rows × 5 columns</p>\n",
       "</div>"
      ],
      "text/plain": [
       "        0    1    2    3    4\n",
       "0     0.0  0.0  0.0  0.0  1.0\n",
       "1     0.0  0.0  0.0  0.0  1.0\n",
       "2     0.0  0.0  0.0  0.0  1.0\n",
       "3     0.0  0.0  0.0  0.0  1.0\n",
       "4     0.0  0.0  0.0  0.0  1.0\n",
       "...   ...  ...  ...  ...  ...\n",
       "2435  0.0  0.0  1.0  0.0  0.0\n",
       "2436  0.0  0.0  0.0  1.0  0.0\n",
       "2437  0.0  0.0  0.0  1.0  0.0\n",
       "2438  0.0  0.0  0.0  1.0  0.0\n",
       "2439  0.0  0.0  0.0  0.0  1.0\n",
       "\n",
       "[2440 rows x 5 columns]"
      ]
     },
     "execution_count": 10,
     "metadata": {
      "tags": []
     },
     "output_type": "execute_result"
    }
   ],
   "source": [
    "enc_df"
   ]
  },
  {
   "cell_type": "code",
   "execution_count": 11,
   "metadata": {
    "colab": {
     "base_uri": "https://localhost:8080/",
     "height": 660
    },
    "executionInfo": {
     "elapsed": 1163,
     "status": "ok",
     "timestamp": 1621071389427,
     "user": {
      "displayName": "Machine Learning",
      "photoUrl": "https://lh3.googleusercontent.com/a-/AOh14GhwBRPV9dlAQMjYJcrnyebdRqxGjgfWs74B3NV3=s64",
      "userId": "05609927355646341864"
     },
     "user_tz": -120
    },
    "id": "vgUZqgxmXniC",
    "outputId": "e9b87897-4c00-4e93-adb5-f826107b4ecd"
   },
   "outputs": [
    {
     "data": {
      "text/html": [
       "<div>\n",
       "<style scoped>\n",
       "    .dataframe tbody tr th:only-of-type {\n",
       "        vertical-align: middle;\n",
       "    }\n",
       "\n",
       "    .dataframe tbody tr th {\n",
       "        vertical-align: top;\n",
       "    }\n",
       "\n",
       "    .dataframe thead th {\n",
       "        text-align: right;\n",
       "    }\n",
       "</style>\n",
       "<table border=\"1\" class=\"dataframe\">\n",
       "  <thead>\n",
       "    <tr style=\"text-align: right;\">\n",
       "      <th></th>\n",
       "      <th>CodCliente</th>\n",
       "      <th>FechaNacimiento</th>\n",
       "      <th>EstadoCivil</th>\n",
       "      <th>Sexo</th>\n",
       "      <th>IngresosAnuales</th>\n",
       "      <th>HijosACargo</th>\n",
       "      <th>NivelAcademico</th>\n",
       "      <th>Ocupacion</th>\n",
       "      <th>0</th>\n",
       "      <th>1</th>\n",
       "      <th>2</th>\n",
       "      <th>3</th>\n",
       "      <th>4</th>\n",
       "    </tr>\n",
       "  </thead>\n",
       "  <tbody>\n",
       "    <tr>\n",
       "      <th>0</th>\n",
       "      <td>000020</td>\n",
       "      <td>1976-04-08</td>\n",
       "      <td>0</td>\n",
       "      <td>1</td>\n",
       "      <td>90000.0</td>\n",
       "      <td>0.0</td>\n",
       "      <td>Licenciatura</td>\n",
       "      <td>Profesional especializado</td>\n",
       "      <td>0.0</td>\n",
       "      <td>0.0</td>\n",
       "      <td>0.0</td>\n",
       "      <td>0.0</td>\n",
       "      <td>1.0</td>\n",
       "    </tr>\n",
       "    <tr>\n",
       "      <th>1</th>\n",
       "      <td>000026</td>\n",
       "      <td>1975-05-14</td>\n",
       "      <td>1</td>\n",
       "      <td>1</td>\n",
       "      <td>60000.0</td>\n",
       "      <td>3.0</td>\n",
       "      <td>Licenciatura</td>\n",
       "      <td>Profesional especializado</td>\n",
       "      <td>0.0</td>\n",
       "      <td>0.0</td>\n",
       "      <td>0.0</td>\n",
       "      <td>0.0</td>\n",
       "      <td>1.0</td>\n",
       "    </tr>\n",
       "    <tr>\n",
       "      <th>2</th>\n",
       "      <td>000029</td>\n",
       "      <td>1975-08-12</td>\n",
       "      <td>0</td>\n",
       "      <td>1</td>\n",
       "      <td>60000.0</td>\n",
       "      <td>3.0</td>\n",
       "      <td>Licenciatura</td>\n",
       "      <td>Profesional especializado</td>\n",
       "      <td>0.0</td>\n",
       "      <td>0.0</td>\n",
       "      <td>0.0</td>\n",
       "      <td>0.0</td>\n",
       "      <td>1.0</td>\n",
       "    </tr>\n",
       "    <tr>\n",
       "      <th>3</th>\n",
       "      <td>000046</td>\n",
       "      <td>1978-02-15</td>\n",
       "      <td>1</td>\n",
       "      <td>0</td>\n",
       "      <td>70000.0</td>\n",
       "      <td>0.0</td>\n",
       "      <td>Licenciatura</td>\n",
       "      <td>Profesional especializado</td>\n",
       "      <td>0.0</td>\n",
       "      <td>0.0</td>\n",
       "      <td>0.0</td>\n",
       "      <td>0.0</td>\n",
       "      <td>1.0</td>\n",
       "    </tr>\n",
       "    <tr>\n",
       "      <th>4</th>\n",
       "      <td>000047</td>\n",
       "      <td>1978-08-08</td>\n",
       "      <td>1</td>\n",
       "      <td>0</td>\n",
       "      <td>80000.0</td>\n",
       "      <td>5.0</td>\n",
       "      <td>Licenciatura</td>\n",
       "      <td>Profesional especializado</td>\n",
       "      <td>0.0</td>\n",
       "      <td>0.0</td>\n",
       "      <td>0.0</td>\n",
       "      <td>0.0</td>\n",
       "      <td>1.0</td>\n",
       "    </tr>\n",
       "    <tr>\n",
       "      <th>...</th>\n",
       "      <td>...</td>\n",
       "      <td>...</td>\n",
       "      <td>...</td>\n",
       "      <td>...</td>\n",
       "      <td>...</td>\n",
       "      <td>...</td>\n",
       "      <td>...</td>\n",
       "      <td>...</td>\n",
       "      <td>...</td>\n",
       "      <td>...</td>\n",
       "      <td>...</td>\n",
       "      <td>...</td>\n",
       "      <td>...</td>\n",
       "    </tr>\n",
       "    <tr>\n",
       "      <th>2436</th>\n",
       "      <td>Y1795344R</td>\n",
       "      <td>1944-09-17</td>\n",
       "      <td>0</td>\n",
       "      <td>0</td>\n",
       "      <td>70000.0</td>\n",
       "      <td>0.0</td>\n",
       "      <td>Estudios de postgrado</td>\n",
       "      <td>Mando intermedio</td>\n",
       "      <td>0.0</td>\n",
       "      <td>0.0</td>\n",
       "      <td>0.0</td>\n",
       "      <td>1.0</td>\n",
       "      <td>0.0</td>\n",
       "    </tr>\n",
       "    <tr>\n",
       "      <th>2437</th>\n",
       "      <td>Y2404085R</td>\n",
       "      <td>1973-01-04</td>\n",
       "      <td>1</td>\n",
       "      <td>0</td>\n",
       "      <td>90000.0</td>\n",
       "      <td>0.0</td>\n",
       "      <td>Estudios universitarios (en curso)</td>\n",
       "      <td>Profesional especializado</td>\n",
       "      <td>0.0</td>\n",
       "      <td>0.0</td>\n",
       "      <td>0.0</td>\n",
       "      <td>1.0</td>\n",
       "      <td>0.0</td>\n",
       "    </tr>\n",
       "    <tr>\n",
       "      <th>2438</th>\n",
       "      <td>Y2544794L</td>\n",
       "      <td>1973-08-26</td>\n",
       "      <td>0</td>\n",
       "      <td>1</td>\n",
       "      <td>90000.0</td>\n",
       "      <td>0.0</td>\n",
       "      <td>Estudios universitarios (en curso)</td>\n",
       "      <td>Profesional especializado</td>\n",
       "      <td>0.0</td>\n",
       "      <td>0.0</td>\n",
       "      <td>0.0</td>\n",
       "      <td>1.0</td>\n",
       "      <td>0.0</td>\n",
       "    </tr>\n",
       "    <tr>\n",
       "      <th>2439</th>\n",
       "      <td>Y2671043K</td>\n",
       "      <td>1973-10-23</td>\n",
       "      <td>1</td>\n",
       "      <td>0</td>\n",
       "      <td>90000.0</td>\n",
       "      <td>0.0</td>\n",
       "      <td>Estudios universitarios (en curso)</td>\n",
       "      <td>Profesional especializado</td>\n",
       "      <td>0.0</td>\n",
       "      <td>0.0</td>\n",
       "      <td>0.0</td>\n",
       "      <td>0.0</td>\n",
       "      <td>1.0</td>\n",
       "    </tr>\n",
       "    <tr>\n",
       "      <th>2440</th>\n",
       "      <td>Y2716961P</td>\n",
       "      <td>1973-03-16</td>\n",
       "      <td>0</td>\n",
       "      <td>1</td>\n",
       "      <td>110000.0</td>\n",
       "      <td>2.0</td>\n",
       "      <td>Licenciatura</td>\n",
       "      <td>Mando intermedio</td>\n",
       "      <td>NaN</td>\n",
       "      <td>NaN</td>\n",
       "      <td>NaN</td>\n",
       "      <td>NaN</td>\n",
       "      <td>NaN</td>\n",
       "    </tr>\n",
       "  </tbody>\n",
       "</table>\n",
       "<p>2440 rows × 13 columns</p>\n",
       "</div>"
      ],
      "text/plain": [
       "     CodCliente FechaNacimiento  EstadoCivil  Sexo  ...    1    2    3    4\n",
       "0        000020      1976-04-08            0     1  ...  0.0  0.0  0.0  1.0\n",
       "1        000026      1975-05-14            1     1  ...  0.0  0.0  0.0  1.0\n",
       "2        000029      1975-08-12            0     1  ...  0.0  0.0  0.0  1.0\n",
       "3        000046      1978-02-15            1     0  ...  0.0  0.0  0.0  1.0\n",
       "4        000047      1978-08-08            1     0  ...  0.0  0.0  0.0  1.0\n",
       "...         ...             ...          ...   ...  ...  ...  ...  ...  ...\n",
       "2436  Y1795344R      1944-09-17            0     0  ...  0.0  0.0  1.0  0.0\n",
       "2437  Y2404085R      1973-01-04            1     0  ...  0.0  0.0  1.0  0.0\n",
       "2438  Y2544794L      1973-08-26            0     1  ...  0.0  0.0  1.0  0.0\n",
       "2439  Y2671043K      1973-10-23            1     0  ...  0.0  0.0  0.0  1.0\n",
       "2440  Y2716961P      1973-03-16            0     1  ...  NaN  NaN  NaN  NaN\n",
       "\n",
       "[2440 rows x 13 columns]"
      ]
     },
     "execution_count": 11,
     "metadata": {
      "tags": []
     },
     "output_type": "execute_result"
    }
   ],
   "source": [
    "# Mezclar con el df original\n",
    "bridge_df = df.join(enc_df)\n",
    "bridge_df"
   ]
  },
  {
   "cell_type": "code",
   "execution_count": 12,
   "metadata": {
    "executionInfo": {
     "elapsed": 1030,
     "status": "ok",
     "timestamp": 1621071482969,
     "user": {
      "displayName": "Machine Learning",
      "photoUrl": "https://lh3.googleusercontent.com/a-/AOh14GhwBRPV9dlAQMjYJcrnyebdRqxGjgfWs74B3NV3=s64",
      "userId": "05609927355646341864"
     },
     "user_tz": -120
    },
    "id": "W_ng_R039v7y"
   },
   "outputs": [],
   "source": [
    "\n",
    "# One Hot encoding utilizando dummies. Podemos hacerlo para varias variables y agrega sufijos y valores como nombre de columna\n",
    "dum_df = pd.get_dummies(df, columns=[\"NivelAcademico\",\"Ocupacion\"] )\n",
    "\n"
   ]
  },
  {
   "cell_type": "code",
   "execution_count": 13,
   "metadata": {
    "colab": {
     "base_uri": "https://localhost:8080/",
     "height": 471
    },
    "executionInfo": {
     "elapsed": 1137,
     "status": "ok",
     "timestamp": 1621071486204,
     "user": {
      "displayName": "Machine Learning",
      "photoUrl": "https://lh3.googleusercontent.com/a-/AOh14GhwBRPV9dlAQMjYJcrnyebdRqxGjgfWs74B3NV3=s64",
      "userId": "05609927355646341864"
     },
     "user_tz": -120
    },
    "id": "OvGdZnEL9v7y",
    "outputId": "2d5da7cd-6abf-4723-b854-1d4abded804e"
   },
   "outputs": [
    {
     "data": {
      "text/html": [
       "<div>\n",
       "<style scoped>\n",
       "    .dataframe tbody tr th:only-of-type {\n",
       "        vertical-align: middle;\n",
       "    }\n",
       "\n",
       "    .dataframe tbody tr th {\n",
       "        vertical-align: top;\n",
       "    }\n",
       "\n",
       "    .dataframe thead th {\n",
       "        text-align: right;\n",
       "    }\n",
       "</style>\n",
       "<table border=\"1\" class=\"dataframe\">\n",
       "  <thead>\n",
       "    <tr style=\"text-align: right;\">\n",
       "      <th></th>\n",
       "      <th>CodCliente</th>\n",
       "      <th>FechaNacimiento</th>\n",
       "      <th>EstadoCivil</th>\n",
       "      <th>Sexo</th>\n",
       "      <th>IngresosAnuales</th>\n",
       "      <th>HijosACargo</th>\n",
       "      <th>NivelAcademico_Educación Secundaria</th>\n",
       "      <th>NivelAcademico_Educación Secundaria (en curso)</th>\n",
       "      <th>NivelAcademico_Estudios de postgrado</th>\n",
       "      <th>NivelAcademico_Estudios universitarios (en curso)</th>\n",
       "      <th>NivelAcademico_Licenciatura</th>\n",
       "      <th>Ocupacion_Empleado por cuenta ajena</th>\n",
       "      <th>Ocupacion_Empleados/as de hogar</th>\n",
       "      <th>Ocupacion_Mando intermedio</th>\n",
       "      <th>Ocupacion_Profesional especializado</th>\n",
       "      <th>Ocupacion_Profesional independiente</th>\n",
       "    </tr>\n",
       "  </thead>\n",
       "  <tbody>\n",
       "    <tr>\n",
       "      <th>0</th>\n",
       "      <td>000020</td>\n",
       "      <td>1976-04-08</td>\n",
       "      <td>0</td>\n",
       "      <td>1</td>\n",
       "      <td>90000.0</td>\n",
       "      <td>0.0</td>\n",
       "      <td>0</td>\n",
       "      <td>0</td>\n",
       "      <td>0</td>\n",
       "      <td>0</td>\n",
       "      <td>1</td>\n",
       "      <td>0</td>\n",
       "      <td>0</td>\n",
       "      <td>0</td>\n",
       "      <td>1</td>\n",
       "      <td>0</td>\n",
       "    </tr>\n",
       "    <tr>\n",
       "      <th>1</th>\n",
       "      <td>000026</td>\n",
       "      <td>1975-05-14</td>\n",
       "      <td>1</td>\n",
       "      <td>1</td>\n",
       "      <td>60000.0</td>\n",
       "      <td>3.0</td>\n",
       "      <td>0</td>\n",
       "      <td>0</td>\n",
       "      <td>0</td>\n",
       "      <td>0</td>\n",
       "      <td>1</td>\n",
       "      <td>0</td>\n",
       "      <td>0</td>\n",
       "      <td>0</td>\n",
       "      <td>1</td>\n",
       "      <td>0</td>\n",
       "    </tr>\n",
       "    <tr>\n",
       "      <th>2</th>\n",
       "      <td>000029</td>\n",
       "      <td>1975-08-12</td>\n",
       "      <td>0</td>\n",
       "      <td>1</td>\n",
       "      <td>60000.0</td>\n",
       "      <td>3.0</td>\n",
       "      <td>0</td>\n",
       "      <td>0</td>\n",
       "      <td>0</td>\n",
       "      <td>0</td>\n",
       "      <td>1</td>\n",
       "      <td>0</td>\n",
       "      <td>0</td>\n",
       "      <td>0</td>\n",
       "      <td>1</td>\n",
       "      <td>0</td>\n",
       "    </tr>\n",
       "    <tr>\n",
       "      <th>3</th>\n",
       "      <td>000046</td>\n",
       "      <td>1978-02-15</td>\n",
       "      <td>1</td>\n",
       "      <td>0</td>\n",
       "      <td>70000.0</td>\n",
       "      <td>0.0</td>\n",
       "      <td>0</td>\n",
       "      <td>0</td>\n",
       "      <td>0</td>\n",
       "      <td>0</td>\n",
       "      <td>1</td>\n",
       "      <td>0</td>\n",
       "      <td>0</td>\n",
       "      <td>0</td>\n",
       "      <td>1</td>\n",
       "      <td>0</td>\n",
       "    </tr>\n",
       "    <tr>\n",
       "      <th>4</th>\n",
       "      <td>000047</td>\n",
       "      <td>1978-08-08</td>\n",
       "      <td>1</td>\n",
       "      <td>0</td>\n",
       "      <td>80000.0</td>\n",
       "      <td>5.0</td>\n",
       "      <td>0</td>\n",
       "      <td>0</td>\n",
       "      <td>0</td>\n",
       "      <td>0</td>\n",
       "      <td>1</td>\n",
       "      <td>0</td>\n",
       "      <td>0</td>\n",
       "      <td>0</td>\n",
       "      <td>1</td>\n",
       "      <td>0</td>\n",
       "    </tr>\n",
       "    <tr>\n",
       "      <th>...</th>\n",
       "      <td>...</td>\n",
       "      <td>...</td>\n",
       "      <td>...</td>\n",
       "      <td>...</td>\n",
       "      <td>...</td>\n",
       "      <td>...</td>\n",
       "      <td>...</td>\n",
       "      <td>...</td>\n",
       "      <td>...</td>\n",
       "      <td>...</td>\n",
       "      <td>...</td>\n",
       "      <td>...</td>\n",
       "      <td>...</td>\n",
       "      <td>...</td>\n",
       "      <td>...</td>\n",
       "      <td>...</td>\n",
       "    </tr>\n",
       "    <tr>\n",
       "      <th>2436</th>\n",
       "      <td>Y1795344R</td>\n",
       "      <td>1944-09-17</td>\n",
       "      <td>0</td>\n",
       "      <td>0</td>\n",
       "      <td>70000.0</td>\n",
       "      <td>0.0</td>\n",
       "      <td>0</td>\n",
       "      <td>0</td>\n",
       "      <td>1</td>\n",
       "      <td>0</td>\n",
       "      <td>0</td>\n",
       "      <td>0</td>\n",
       "      <td>0</td>\n",
       "      <td>1</td>\n",
       "      <td>0</td>\n",
       "      <td>0</td>\n",
       "    </tr>\n",
       "    <tr>\n",
       "      <th>2437</th>\n",
       "      <td>Y2404085R</td>\n",
       "      <td>1973-01-04</td>\n",
       "      <td>1</td>\n",
       "      <td>0</td>\n",
       "      <td>90000.0</td>\n",
       "      <td>0.0</td>\n",
       "      <td>0</td>\n",
       "      <td>0</td>\n",
       "      <td>0</td>\n",
       "      <td>1</td>\n",
       "      <td>0</td>\n",
       "      <td>0</td>\n",
       "      <td>0</td>\n",
       "      <td>0</td>\n",
       "      <td>1</td>\n",
       "      <td>0</td>\n",
       "    </tr>\n",
       "    <tr>\n",
       "      <th>2438</th>\n",
       "      <td>Y2544794L</td>\n",
       "      <td>1973-08-26</td>\n",
       "      <td>0</td>\n",
       "      <td>1</td>\n",
       "      <td>90000.0</td>\n",
       "      <td>0.0</td>\n",
       "      <td>0</td>\n",
       "      <td>0</td>\n",
       "      <td>0</td>\n",
       "      <td>1</td>\n",
       "      <td>0</td>\n",
       "      <td>0</td>\n",
       "      <td>0</td>\n",
       "      <td>0</td>\n",
       "      <td>1</td>\n",
       "      <td>0</td>\n",
       "    </tr>\n",
       "    <tr>\n",
       "      <th>2439</th>\n",
       "      <td>Y2671043K</td>\n",
       "      <td>1973-10-23</td>\n",
       "      <td>1</td>\n",
       "      <td>0</td>\n",
       "      <td>90000.0</td>\n",
       "      <td>0.0</td>\n",
       "      <td>0</td>\n",
       "      <td>0</td>\n",
       "      <td>0</td>\n",
       "      <td>1</td>\n",
       "      <td>0</td>\n",
       "      <td>0</td>\n",
       "      <td>0</td>\n",
       "      <td>0</td>\n",
       "      <td>1</td>\n",
       "      <td>0</td>\n",
       "    </tr>\n",
       "    <tr>\n",
       "      <th>2440</th>\n",
       "      <td>Y2716961P</td>\n",
       "      <td>1973-03-16</td>\n",
       "      <td>0</td>\n",
       "      <td>1</td>\n",
       "      <td>110000.0</td>\n",
       "      <td>2.0</td>\n",
       "      <td>0</td>\n",
       "      <td>0</td>\n",
       "      <td>0</td>\n",
       "      <td>0</td>\n",
       "      <td>1</td>\n",
       "      <td>0</td>\n",
       "      <td>0</td>\n",
       "      <td>1</td>\n",
       "      <td>0</td>\n",
       "      <td>0</td>\n",
       "    </tr>\n",
       "  </tbody>\n",
       "</table>\n",
       "<p>2440 rows × 16 columns</p>\n",
       "</div>"
      ],
      "text/plain": [
       "     CodCliente  ... Ocupacion_Profesional independiente\n",
       "0        000020  ...                                   0\n",
       "1        000026  ...                                   0\n",
       "2        000029  ...                                   0\n",
       "3        000046  ...                                   0\n",
       "4        000047  ...                                   0\n",
       "...         ...  ...                                 ...\n",
       "2436  Y1795344R  ...                                   0\n",
       "2437  Y2404085R  ...                                   0\n",
       "2438  Y2544794L  ...                                   0\n",
       "2439  Y2671043K  ...                                   0\n",
       "2440  Y2716961P  ...                                   0\n",
       "\n",
       "[2440 rows x 16 columns]"
      ]
     },
     "execution_count": 13,
     "metadata": {
      "tags": []
     },
     "output_type": "execute_result"
    }
   ],
   "source": [
    "dum_df"
   ]
  },
  {
   "cell_type": "code",
   "execution_count": null,
   "metadata": {
    "id": "WYuIoNGV9v7z"
   },
   "outputs": [],
   "source": []
  }
 ],
 "metadata": {
  "colab": {
   "collapsed_sections": [],
   "name": "03_03_Codificacion de Variables.ipynb",
   "provenance": [],
   "toc_visible": true
  },
  "kernelspec": {
   "display_name": "Python 3.8.5 64-bit",
   "name": "python_defaultSpec_1600709073680"
  },
  "language_info": {
   "codemirror_mode": {
    "name": "ipython",
    "version": 3
   },
   "file_extension": ".py",
   "mimetype": "text/x-python",
   "name": "python",
   "nbconvert_exporter": "python",
   "pygments_lexer": "ipython3",
   "version": "3.8.5-final"
  }
 },
 "nbformat": 4,
 "nbformat_minor": 0
}
