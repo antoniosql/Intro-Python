{
 "cells": [
  {
   "cell_type": "markdown",
   "metadata": {},
   "source": [
    "![Dataging](https://raw.githubusercontent.com/dataging/public-resources/61263724aea5476ba5ebf38478beada519091957/logodataging.png)\n",
    "# Ejercicio resumen de Pandas con acceso a MySQL y algo de visualización\n",
    "\n",
    "¿Qué queremos analizar?\n",
    "\n",
    "### Preguntas\n",
    "1. ¿Qué ratings de películas son las más comunes? ¿Qué ratings de películas se alquilan con más frecuencia en la tienda 1? ¿El inventario de la tienda 1 refleja la demanda?\n",
    "2. ¿Qué categorías de películas son las más comunes? ¿Qué categorías de películas se alquilan con más frecuencia en la tienda 1? ¿El inventario de la tienda 1 refleja la demanda?\n",
    "3. ¿Cuáles son las 10 películas que más dinero generan? ¿Qué actores tienen un papel en más de una de estas 10 películas?\n",
    "4. ¿Existe una diferencia estadísticamente significativa en los ingresos promedio por alquiler de la tienda 1 en comparación con la tienda 2?"
   ]
  },
  {
   "cell_type": "code",
   "execution_count": 1,
   "metadata": {},
   "outputs": [
    {
     "ename": "ModuleNotFoundError",
     "evalue": "No module named 'mysql'",
     "output_type": "error",
     "traceback": [
      "\u001b[1;31m---------------------------------------------------------------------------\u001b[0m",
      "\u001b[1;31mModuleNotFoundError\u001b[0m                       Traceback (most recent call last)",
      "Cell \u001b[1;32mIn[1], line 4\u001b[0m\n\u001b[0;32m      1\u001b[0m \u001b[38;5;66;03m# Importamos los paquetes necesarios\u001b[39;00m\n\u001b[0;32m      3\u001b[0m \u001b[38;5;28;01mimport\u001b[39;00m \u001b[38;5;21;01mpandas\u001b[39;00m \u001b[38;5;28;01mas\u001b[39;00m \u001b[38;5;21;01mpd\u001b[39;00m\n\u001b[1;32m----> 4\u001b[0m \u001b[38;5;28;01mimport\u001b[39;00m \u001b[38;5;21;01mmysql\u001b[39;00m\u001b[38;5;21;01m.\u001b[39;00m\u001b[38;5;21;01mconnector\u001b[39;00m\n\u001b[0;32m      5\u001b[0m \u001b[38;5;28;01mimport\u001b[39;00m \u001b[38;5;21;01mos\u001b[39;00m\n\u001b[0;32m      6\u001b[0m \u001b[38;5;28;01mfrom\u001b[39;00m \u001b[38;5;21;01mdotenv\u001b[39;00m \u001b[38;5;28;01mimport\u001b[39;00m load_dotenv\n",
      "\u001b[1;31mModuleNotFoundError\u001b[0m: No module named 'mysql'"
     ]
    }
   ],
   "source": [
    "# Importamos los paquetes necesarios\n",
    "\n",
    "import pandas as pd\n",
    "import mysql.connector\n",
    "import os\n",
    "from dotenv import load_dotenv"
   ]
  },
  {
   "cell_type": "code",
   "execution_count": 2,
   "metadata": {},
   "outputs": [],
   "source": [
    "load_dotenv() #lee las variables de entorno del archivo .env\n",
    "\n",
    "servidor = os.getenv(\"SERVIDOR_MYSQL\")\n",
    "usuario = os.getenv(\"USUARIO_MYSQL\")\n",
    "password = os.getenv(\"PASSWORD_MYSQL\")"
   ]
  },
  {
   "cell_type": "code",
   "execution_count": 3,
   "metadata": {},
   "outputs": [
    {
     "ename": "",
     "evalue": "",
     "output_type": "error",
     "traceback": [
      "\u001b[1;31mThe Kernel crashed while executing code in the current cell or a previous cell. \n",
      "\u001b[1;31mPlease review the code in the cell(s) to identify a possible cause of the failure. \n",
      "\u001b[1;31mClick <a href='https://aka.ms/vscodeJupyterKernelCrash'>here</a> for more info. \n",
      "\u001b[1;31mView Jupyter <a href='command:jupyter.viewOutput'>log</a> for further details."
     ]
    }
   ],
   "source": [
    "try:\n",
    "    cnx = mysql.connector.connect(user=usuario, password=password,\n",
    "                              host=servidor, database='sakila') # Definimos la cadena de conexión de la base de datos e intentamos conectar\n",
    "    cursor=cnx.cursor() #Creamos un cursor para poder ejecutar consultas\n",
    "    cursor.execute(\"SELECT * FROM actor\") #Ejecutamos la consulta SQL\n",
    "    resultado = cursor.fetchall() # Obtenemos todas las filas de la consulta\n",
    "except mysql.connector.Error as err:\n",
    "    print(\"Error conectando a la base de datos \" + err)\n",
    "    \n",
    "cursor.close() \n",
    "cnx.close()"
   ]
  },
  {
   "cell_type": "markdown",
   "metadata": {},
   "source": [
    "## ¿Qué ratings de películas son las más comunes? ¿Qué ratings de películas se alquilan con más frecuencia en la tienda 1? ¿El inventario de la tienda 1 refleja la demanda?"
   ]
  },
  {
   "cell_type": "code",
   "execution_count": null,
   "metadata": {},
   "outputs": [],
   "source": [
    "query = '''\n",
    "SELECT\n",
    "    rating, COUNT(rating) as rating_count\n",
    "FROM\n",
    "    film\n",
    "GROUP BY\n",
    "    rating\n",
    "ORDER BY\n",
    "    rating_count DESC;\n",
    "'''\n",
    "view = pd.read_sql_query(query, cnx)\n",
    "view\n",
    "film_ratings_frequency = view['rating'].tolist()"
   ]
  }
 ],
 "metadata": {
  "kernelspec": {
   "display_name": "Python 3",
   "language": "python",
   "name": "python3"
  },
  "language_info": {
   "codemirror_mode": {
    "name": "ipython",
    "version": 3
   },
   "file_extension": ".py",
   "mimetype": "text/x-python",
   "name": "python",
   "nbconvert_exporter": "python",
   "pygments_lexer": "ipython3",
   "version": "3.12.6"
  }
 },
 "nbformat": 4,
 "nbformat_minor": 2
}
