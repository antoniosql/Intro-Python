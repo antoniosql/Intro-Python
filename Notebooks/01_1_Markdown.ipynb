{
 "cells": [
  {
   "cell_type": "markdown",
   "metadata": {
    "id": "ej8egvciI-Rg"
   },
   "source": [
    "![Dataging](Python_IFFE\\resources\\Dataging.png)\n",
    "# Markdown\n",
    "Markdown es un lenguaje de marcado sencillo que sirve para agregar formato, vínculos e imágenes con facilidad al texto simple. Nace como un lenguaje para facilitar la escritura de texto para la Web. No sustituye HTML, sino que podríamos decir que HTML es un formato de publicación mientras que Markdown es un formato de escritura. A día de hoy está soportado por muchos IDE, además de estar soportado de forma nativa por la mayor parte de soluciones SaaS, por lo que es un formato estándar para poder escribir texto en cualquier aplicación. \n",
    "\n",
    "\n",
    "https://daringfireball.net/projects/markdown/syntax"
   ]
  },
  {
   "cell_type": "markdown",
   "metadata": {
    "id": "X62HUCAZI-Rn"
   },
   "source": [
    "## Referencia\n",
    "\n",
    "Markdown | Visualización\n",
    "--- | ---\n",
    "`**texto en negrita**` | **negrita**\n",
    "`*texto en cursiva*` or `_texto en cursiva_` | *cursiva*\n",
    "`` `Monospace` `` | `Monospace`\n",
    "`~~Tachado~~` | ~~tachado~~\n",
    "`[Un enlace](https://www.google.com)` | [Un enlace](https://www.google.com)\n",
    "`![Una imagen](https://www.vernegroup.com/wp-content/uploads/2020/07/LOGO-VERNE-TECHNOLOGY-GROUP-3.png)` | ![Una imagen](https://www.vernegroup.com/wp-content/uploads/2020/07/LOGO-VERNE-TECHNOLOGY-GROUP-3.png)\n",
    "\n"
   ]
  },
  {
   "cell_type": "markdown",
   "metadata": {
    "id": "bB0s38znI-Ro"
   },
   "source": [
    "## Títulos\n",
    "\n",
    "\n",
    "\n",
    "```markdown\n",
    "# Título 1\n",
    "# Título 2\n",
    "## Sub-título bajo Título 2\n",
    "### Sub-título bajo el sub-título bajo el Título 2\n",
    "# Título 3\n",
    "```\n",
    "\n",
    "# Título 1\n",
    "# Título 2\n",
    "## Sub-título bajo Título 2\n",
    "### Sub-título bajo el sub-título bajo el Título 2\n",
    "# Título 3"
   ]
  },
  {
   "cell_type": "markdown",
   "metadata": {
    "id": "C7wRatIzJ_h4"
   },
   "source": [
    "# New Section"
   ]
  },
  {
   "cell_type": "markdown",
   "metadata": {
    "id": "teSOixsoI-Ro"
   },
   "source": [
    "---\n",
    "\n",
    "```markdown\n",
    ">Un nivel de tabulación\n",
    "```\n",
    "\n",
    ">Un nivel de tabulación\n",
    "\n",
    "\n",
    "```markdown\n",
    ">>Dos niveles de tabulación\n",
    "```\n",
    "\n",
    ">>Dos niveles de tabulación\n",
    "\n",
    "---"
   ]
  },
  {
   "cell_type": "markdown",
   "metadata": {
    "id": "m1azA0T_I-Rp"
   },
   "source": [
    "---\n",
    "\n",
    "Listas Ordenadas:\n",
    "```markdown\n",
    "1. Uno\n",
    "1. Dos\n",
    "1. Tres\n",
    "```\n",
    "1. Uno\n",
    "1. Dos\n",
    "1. Tres\n",
    "\n",
    "---\n",
    "\n",
    "Listas No Ordenadas:\n",
    "```markdown\n",
    "* Uno\n",
    "* Dos\n",
    "* Tres\n",
    "```\n",
    "* Uno\n",
    "* Dos\n",
    "* Tres\n",
    "\n",
    "---"
   ]
  },
  {
   "cell_type": "markdown",
   "metadata": {
    "id": "6Kik9bNcI-Rp"
   },
   "source": [
    "---\n",
    "\n",
    "Tablas:\n",
    "```markdown\n",
    "Primer nombre columna  | Segundo nombre de columna \n",
    "-------------------|------------------\n",
    "Fila 1, Col 1       | Fila 1, Col 2 \n",
    "Fila 2, Col 1       | Fila 2, Col 2 \n",
    "\n",
    "```\n",
    "\n",
    "Primer nombre de columna  | Segundo nombre de columna \n",
    "-------------------|------------------\n",
    "Fila 1, Col 1       | Fila 1, Col 2 \n",
    "Fila 2, Col 1       | Fila 2, Col 2 \n",
    "\n",
    "---"
   ]
  }
 ],
 "metadata": {
  "colab": {
   "name": "01_1_Markdown.ipynb",
   "provenance": [],
   "toc_visible": true
  },
  "language_info": {
   "codemirror_mode": {
    "name": "ipython",
    "version": 3
   },
   "file_extension": ".py",
   "mimetype": "text/x-python",
   "name": "python",
   "nbconvert_exporter": "python",
   "pygments_lexer": "ipython3",
   "version": 3
  },
  "orig_nbformat": 2
 },
 "nbformat": 4,
 "nbformat_minor": 0
}
