{
 "cells": [
  {
   "cell_type": "markdown",
   "metadata": {
    "id": "aOAR5xCN2aTI"
   },
   "source": [
    "![Verne](Python_IFFE\\resources\\Dataging.png)\n",
    "# Elementos del Lenguaje"
   ]
  },
  {
   "cell_type": "markdown",
   "metadata": {
    "id": "wKVhO7zz2aTO"
   },
   "source": [
    "## Comentarios\n",
    "\n",
    "Para comentar el código, podemos utilizar el caracter reservado #. Las recomendaciones PEP8 al respecto son:\n",
    "\n",
    "-   Dejar un espacio entre la # y el comentario\n",
    "-   En comentarios en línea con el código, separarlo dos espacios"
   ]
  },
  {
   "cell_type": "code",
   "execution_count": 1,
   "metadata": {
    "executionInfo": {
     "elapsed": 2307,
     "status": "ok",
     "timestamp": 1620465517444,
     "user": {
      "displayName": "Machine Learning",
      "photoUrl": "https://lh3.googleusercontent.com/a-/AOh14GhwBRPV9dlAQMjYJcrnyebdRqxGjgfWs74B3NV3=s64",
      "userId": "05609927355646341864"
     },
     "user_tz": -120
    },
    "id": "UVxxvBbB2aTP"
   },
   "outputs": [],
   "source": [
    "# Comentario\n",
    "variable = 23  # Comentario en línea\n",
    "\n",
    "\"\"\" Varias lineas\n",
    "y mas lineas \"\"\"\n",
    "variable = 32\n"
   ]
  },
  {
   "cell_type": "markdown",
   "metadata": {
    "id": "ZAiKBaou2aTQ"
   },
   "source": [
    "## Variables\n",
    "\n",
    "Una variable es un espacio de memoria reservado para almacenar valores, al que le damos un nombre. A la hora de darle nombre a una variable, las recomendaciones PEP8(https://www.python.org/dev/peps/pep-0008/#function-and-variable-names) son:\n",
    "\n",
    "-   Minúsculas\n",
    "-   Separación con guiones bajos\n",
    "-   Mezclar minúsculas con mayúsculas (precioJusto) solo en entornos en los que esto venga heredado\n",
    "\n",
    "Se recomienda también dejar un espacio antes y después del valor\n"
   ]
  },
  {
   "cell_type": "code",
   "execution_count": 2,
   "metadata": {
    "executionInfo": {
     "elapsed": 1045,
     "status": "ok",
     "timestamp": 1620465522794,
     "user": {
      "displayName": "Machine Learning",
      "photoUrl": "https://lh3.googleusercontent.com/a-/AOh14GhwBRPV9dlAQMjYJcrnyebdRqxGjgfWs74B3NV3=s64",
      "userId": "05609927355646341864"
     },
     "user_tz": -120
    },
    "id": "JppdrHAn2aTQ"
   },
   "outputs": [],
   "source": [
    "# Definir una variable\n",
    "# nombre = valor\n",
    "\n",
    "altura = 190\n",
    "peso_kg = 90\n"
   ]
  },
  {
   "cell_type": "markdown",
   "metadata": {
    "id": "Ct_C3gId2aTR"
   },
   "source": [
    "## Constantes\n",
    "\n",
    "Las constantes son un tipo de variable, que permanece inmutable durante el contexto de la ejecución. Las recomendaciones PEP8, en este caso, pasan por definir las constantes con letras MAYUSCULAS"
   ]
  },
  {
   "cell_type": "code",
   "execution_count": 3,
   "metadata": {
    "executionInfo": {
     "elapsed": 1553,
     "status": "ok",
     "timestamp": 1620465524889,
     "user": {
      "displayName": "Machine Learning",
      "photoUrl": "https://lh3.googleusercontent.com/a-/AOh14GhwBRPV9dlAQMjYJcrnyebdRqxGjgfWs74B3NV3=s64",
      "userId": "05609927355646341864"
     },
     "user_tz": -120
    },
    "id": "fL-oJmzw2aTR"
   },
   "outputs": [],
   "source": [
    "PESO_MAXIMO = 100"
   ]
  },
  {
   "cell_type": "markdown",
   "metadata": {
    "id": "9BlJTv7p2aTR"
   },
   "source": [
    "## Imprimiendo valores por pantalla. \n",
    "\n",
    "Para imprimir valores por pantalla en Python se utiliza la función print()"
   ]
  },
  {
   "cell_type": "code",
   "execution_count": 4,
   "metadata": {
    "colab": {
     "base_uri": "https://localhost:8080/"
    },
    "executionInfo": {
     "elapsed": 981,
     "status": "ok",
     "timestamp": 1620465532669,
     "user": {
      "displayName": "Machine Learning",
      "photoUrl": "https://lh3.googleusercontent.com/a-/AOh14GhwBRPV9dlAQMjYJcrnyebdRqxGjgfWs74B3NV3=s64",
      "userId": "05609927355646341864"
     },
     "user_tz": -120
    },
    "id": "O4QkEBUC2aTS",
    "outputId": "9cc924d2-07e7-4f1e-b185-6115cd6e90c3"
   },
   "outputs": [
    {
     "name": "stdout",
     "output_type": "stream",
     "text": [
      "100\n"
     ]
    }
   ],
   "source": [
    "print (PESO_MAXIMO)"
   ]
  },
  {
   "cell_type": "code",
   "execution_count": 5,
   "metadata": {
    "colab": {
     "base_uri": "https://localhost:8080/"
    },
    "executionInfo": {
     "elapsed": 1262,
     "status": "ok",
     "timestamp": 1620465535652,
     "user": {
      "displayName": "Machine Learning",
      "photoUrl": "https://lh3.googleusercontent.com/a-/AOh14GhwBRPV9dlAQMjYJcrnyebdRqxGjgfWs74B3NV3=s64",
      "userId": "05609927355646341864"
     },
     "user_tz": -120
    },
    "id": "epURiXAU2aTS",
    "outputId": "9f8de23e-82ad-4817-ab2b-27f6c5b60ea9"
   },
   "outputs": [
    {
     "name": "stdout",
     "output_type": "stream",
     "text": [
      "190\n"
     ]
    }
   ],
   "source": [
    "print (altura)"
   ]
  },
  {
   "cell_type": "markdown",
   "metadata": {
    "id": "tG1gM_O52aTS"
   },
   "source": [
    "## Tipos de Datos Básicos\n",
    "\n",
    "Como en cualquier lenguaje de programación, en Python existen diferentes tipos de datos con los que podemos trabajar. \n",
    "\n",
    "### Cadenas de texto \n",
    "\n",
    "Para trabajar con cadenas de texto, disponemos del tipo de datos *string*. Podemos utilizar comillas tanto simples, como dobles para especificar una cadena de caracteres. Tenemos la posibilidad de tener cadenas multilinea si repetimos tres veces las comillas. Hay que tener en cuenta que los espacios se considerarán parte de la cadena. \n",
    "Si necesitamos incluir en la cadena de caracteres alguna secuencia de escape, la sintaxis es muy similar a la que tenemos disponible en el lenguaje C, utilizando la barra invertida (\\). Si queremos que Python no procese esa secuencia y trate la cadena en crudo, debemos de utilizar el prefijo \"r\". \n",
    "\n"
   ]
  },
  {
   "cell_type": "code",
   "execution_count": 7,
   "metadata": {
    "colab": {
     "base_uri": "https://localhost:8080/"
    },
    "executionInfo": {
     "elapsed": 489,
     "status": "ok",
     "timestamp": 1620465653927,
     "user": {
      "displayName": "Machine Learning",
      "photoUrl": "https://lh3.googleusercontent.com/a-/AOh14GhwBRPV9dlAQMjYJcrnyebdRqxGjgfWs74B3NV3=s64",
      "userId": "05609927355646341864"
     },
     "user_tz": -120
    },
    "id": "eC0lPxoZ2aTT",
    "outputId": "9a533905-f175-42fa-ee3d-fdfbec48f5c9"
   },
   "outputs": [
    {
     "name": "stdout",
     "output_type": "stream",
     "text": [
      "En este texto \n",
      " también tenemos varias líneas\n"
     ]
    }
   ],
   "source": [
    "nombre = \"Antonio\"\n",
    "texto = \"\"\" Este es un texto\n",
    "    que puede ocupar\n",
    "    varias lineas\"\"\"\n",
    "otro_texto = \"En este texto \\n también tenemos varias líneas\"\n",
    "la_barra = \"Si queremos usar \\\\ debemos hacerla doble\"\n",
    "\n",
    "print (otro_texto)"
   ]
  },
  {
   "cell_type": "code",
   "execution_count": 8,
   "metadata": {
    "colab": {
     "base_uri": "https://localhost:8080/"
    },
    "executionInfo": {
     "elapsed": 473,
     "status": "ok",
     "timestamp": 1620465676689,
     "user": {
      "displayName": "Machine Learning",
      "photoUrl": "https://lh3.googleusercontent.com/a-/AOh14GhwBRPV9dlAQMjYJcrnyebdRqxGjgfWs74B3NV3=s64",
      "userId": "05609927355646341864"
     },
     "user_tz": -120
    },
    "id": "vs9b9S8K2aTT",
    "outputId": "b3561f71-710c-49cf-e6ad-4acfb8cf59a3"
   },
   "outputs": [
    {
     "name": "stdout",
     "output_type": "stream",
     "text": [
      "Esto es una clase de Python\n"
     ]
    }
   ],
   "source": [
    "# Trabajo con cadenas\n",
    "cadena_1 = \"Esto es \"\n",
    "cadena_2 = \"una clase de Python\"\n",
    "print (cadena_1 + cadena_2)"
   ]
  },
  {
   "cell_type": "code",
   "execution_count": 9,
   "metadata": {
    "colab": {
     "base_uri": "https://localhost:8080/",
     "height": 35
    },
    "executionInfo": {
     "elapsed": 538,
     "status": "ok",
     "timestamp": 1620465681367,
     "user": {
      "displayName": "Machine Learning",
      "photoUrl": "https://lh3.googleusercontent.com/a-/AOh14GhwBRPV9dlAQMjYJcrnyebdRqxGjgfWs74B3NV3=s64",
      "userId": "05609927355646341864"
     },
     "user_tz": -120
    },
    "id": "g7Ou4KsG2aTU",
    "outputId": "86e19130-4096-4ede-f0f3-93fb39ae48ba"
   },
   "outputs": [
    {
     "data": {
      "application/vnd.google.colaboratory.intrinsic+json": {
       "type": "string"
      },
      "text/plain": [
       "'Mi nombre es Antonio.'"
      ]
     },
     "execution_count": 9,
     "metadata": {
      "tags": []
     },
     "output_type": "execute_result"
    }
   ],
   "source": [
    "# Cadenas Formateadas\n",
    "nombre = \"Antonio\"\n",
    "f\"Mi nombre es {nombre}.\""
   ]
  },
  {
   "cell_type": "code",
   "execution_count": 10,
   "metadata": {
    "colab": {
     "base_uri": "https://localhost:8080/",
     "height": 35
    },
    "executionInfo": {
     "elapsed": 539,
     "status": "ok",
     "timestamp": 1620465751729,
     "user": {
      "displayName": "Machine Learning",
      "photoUrl": "https://lh3.googleusercontent.com/a-/AOh14GhwBRPV9dlAQMjYJcrnyebdRqxGjgfWs74B3NV3=s64",
      "userId": "05609927355646341864"
     },
     "user_tz": -120
    },
    "id": "QZbTGxcN2aTU",
    "outputId": "9a8984a1-ee98-4f4a-ba92-11c11194c805"
   },
   "outputs": [
    {
     "data": {
      "application/vnd.google.colaboratory.intrinsic+json": {
       "type": "string"
      },
      "text/plain": [
       "'antonio'"
      ]
     },
     "execution_count": 10,
     "metadata": {
      "tags": []
     },
     "output_type": "execute_result"
    }
   ],
   "source": [
    "#Métodos de cadenas\n",
    "nombre.lower()"
   ]
  },
  {
   "cell_type": "markdown",
   "metadata": {
    "id": "etyWluw92aTU"
   },
   "source": [
    "### Números Enteros\n",
    "\n",
    "Para los números enteros, tenemos el tipo de datos *int*"
   ]
  },
  {
   "cell_type": "code",
   "execution_count": 11,
   "metadata": {
    "executionInfo": {
     "elapsed": 633,
     "status": "ok",
     "timestamp": 1620465763326,
     "user": {
      "displayName": "Machine Learning",
      "photoUrl": "https://lh3.googleusercontent.com/a-/AOh14GhwBRPV9dlAQMjYJcrnyebdRqxGjgfWs74B3NV3=s64",
      "userId": "05609927355646341864"
     },
     "user_tz": -120
    },
    "id": "ikAHKp0H2aTU"
   },
   "outputs": [],
   "source": [
    "cantidad = 23"
   ]
  },
  {
   "cell_type": "markdown",
   "metadata": {
    "id": "TXly15qv2aTV"
   },
   "source": [
    "### Números decimales (reales o flotantes)\n",
    "\n",
    "El tipo de datos que utiliza Python es *float*"
   ]
  },
  {
   "cell_type": "code",
   "execution_count": 12,
   "metadata": {
    "executionInfo": {
     "elapsed": 544,
     "status": "ok",
     "timestamp": 1620465764807,
     "user": {
      "displayName": "Machine Learning",
      "photoUrl": "https://lh3.googleusercontent.com/a-/AOh14GhwBRPV9dlAQMjYJcrnyebdRqxGjgfWs74B3NV3=s64",
      "userId": "05609927355646341864"
     },
     "user_tz": -120
    },
    "id": "i7G_gklW2aTV"
   },
   "outputs": [],
   "source": [
    "precio = 12.50"
   ]
  },
  {
   "cell_type": "markdown",
   "metadata": {
    "id": "LYOjGM3q2aTV"
   },
   "source": [
    "### Booleanos"
   ]
  },
  {
   "cell_type": "code",
   "execution_count": 13,
   "metadata": {
    "executionInfo": {
     "elapsed": 589,
     "status": "ok",
     "timestamp": 1620465790572,
     "user": {
      "displayName": "Machine Learning",
      "photoUrl": "https://lh3.googleusercontent.com/a-/AOh14GhwBRPV9dlAQMjYJcrnyebdRqxGjgfWs74B3NV3=s64",
      "userId": "05609927355646341864"
     },
     "user_tz": -120
    },
    "id": "zGmginei2aTV"
   },
   "outputs": [],
   "source": [
    "verdadero = True\n",
    "falso = False"
   ]
  },
  {
   "cell_type": "markdown",
   "metadata": {
    "id": "ui5YDuln2aTV"
   },
   "source": [
    "## Operadores\n",
    "### Operadores Aritméticos\n",
    "\n",
    "\n",
    "\n",
    "| Símbolo | Significado | Ejemplo | Resultado |\n",
    "| :---: | :--- | :---: | :---: |\n",
    "| + | Suma | x = 2 + 3 | 5 |\n",
    "| - | Resta | x = 4 - 1 | 3 |\n",
    "| * | Multiplicación | x = 4 * 2 | 8 |\n",
    "| ** | Exponente | x = 3 ** 2 | 9 |\n",
    "| / | División | x = 8.5 / 2 | 4.25 |\n",
    "| // | División Entera | x = 8.5 // 2 | 4 |\n",
    "| % | Módulo | x = 9 % 2 | 1 |\n",
    "\n",
    "### Operadores Lógicos\n",
    "\n",
    "| Operador | Descripción | Ejemplo |\n",
    "| :---: | :--- | :---: |\n",
    "| and | Resulta verdadero cuando ambos operadores son verdaderos | a and b |\n",
    "| or | Resulta verdadero cuando uno de los operadores es verdadero | a or b |\n",
    "| not | Resulta en el complemento. Verdadero a Falso y Falso a Verdadero | not a |\n",
    "\n",
    "### Operadores de Comparación\n",
    "\n",
    "| Operador | Descripción | Ejemplo |\n",
    "| :---: | :--- | :---: |\n",
    "| > | Mayor que | a > b |\n",
    "| < | Menor que | a < b |\n",
    "| == | Igual que | a == b |\n",
    "| != | Distinto a | a != b |\n",
    "| >= | Mayor o igual que | a >= b |\n",
    "| <= | Menor o igual que | a <= b |\n",
    "\n",
    "### Operadores de Asignación compuestos\n",
    "En Python podemos utilizar operadores de asignación compuestos, como por ejemplo:\n",
    "\n",
    "x += 2 que sería equivalente a x = x + 2\n",
    "\n",
    "Podemos utilizar estas composiciones con todos los operadores aritméticos"
   ]
  },
  {
   "cell_type": "markdown",
   "metadata": {
    "id": "x53P0L8j2aTW"
   },
   "source": [
    "## Tipos de Datos Complejos\n",
    "\n",
    "Tuplas, Listas y Diccionarios\n",
    "\n",
    "### Tuplas\n",
    "\n",
    "Una Tupla nos permite almacenar valores de diferente tipo de datos, pero de forma inmutable (no se pueden modificar). Es posible acceder a esos valores a través de su índice"
   ]
  },
  {
   "cell_type": "code",
   "execution_count": 14,
   "metadata": {
    "colab": {
     "base_uri": "https://localhost:8080/",
     "height": 35
    },
    "executionInfo": {
     "elapsed": 560,
     "status": "ok",
     "timestamp": 1620465888556,
     "user": {
      "displayName": "Machine Learning",
      "photoUrl": "https://lh3.googleusercontent.com/a-/AOh14GhwBRPV9dlAQMjYJcrnyebdRqxGjgfWs74B3NV3=s64",
      "userId": "05609927355646341864"
     },
     "user_tz": -120
    },
    "id": "4L6ZgTd42aTX",
    "outputId": "55c6d92a-bc23-4a65-9a15-03abe763c271"
   },
   "outputs": [
    {
     "data": {
      "application/vnd.google.colaboratory.intrinsic+json": {
       "type": "string"
      },
      "text/plain": [
       "'Madrid'"
      ]
     },
     "execution_count": 14,
     "metadata": {
      "tags": []
     },
     "output_type": "execute_result"
    }
   ],
   "source": [
    "tupla_ejemplo = ('Patatas' , 15.20 , 'Madrid' , 20)\n",
    "tupla_ejemplo\n",
    "tupla_ejemplo[1]\n",
    "tupla_ejemplo[1:3]\n",
    "tupla_ejemplo[:3]\n",
    "tupla_ejemplo[-2]"
   ]
  },
  {
   "cell_type": "code",
   "execution_count": 21,
   "metadata": {
    "colab": {
     "base_uri": "https://localhost:8080/",
     "height": 35
    },
    "executionInfo": {
     "elapsed": 507,
     "status": "ok",
     "timestamp": 1620466163465,
     "user": {
      "displayName": "Machine Learning",
      "photoUrl": "https://lh3.googleusercontent.com/a-/AOh14GhwBRPV9dlAQMjYJcrnyebdRqxGjgfWs74B3NV3=s64",
      "userId": "05609927355646341864"
     },
     "user_tz": -120
    },
    "id": "5vuRlLvpS-Xm",
    "outputId": "90d353ea-2cea-4f21-8755-70e177fd660c"
   },
   "outputs": [
    {
     "data": {
      "application/vnd.google.colaboratory.intrinsic+json": {
       "type": "string"
      },
      "text/plain": [
       "'Madrid'"
      ]
     },
     "execution_count": 21,
     "metadata": {
      "tags": []
     },
     "output_type": "execute_result"
    }
   ],
   "source": [
    "tupla_ejemplo[-2]"
   ]
  },
  {
   "cell_type": "markdown",
   "metadata": {
    "id": "B-bfrPvl2aTX"
   },
   "source": [
    "### Listas\n",
    "\n",
    "Las listas, son iguales que las tuplas, pero con la diferencia de que sí podemos modificar los valores. "
   ]
  },
  {
   "cell_type": "code",
   "execution_count": 22,
   "metadata": {
    "colab": {
     "base_uri": "https://localhost:8080/"
    },
    "executionInfo": {
     "elapsed": 516,
     "status": "ok",
     "timestamp": 1620466169997,
     "user": {
      "displayName": "Machine Learning",
      "photoUrl": "https://lh3.googleusercontent.com/a-/AOh14GhwBRPV9dlAQMjYJcrnyebdRqxGjgfWs74B3NV3=s64",
      "userId": "05609927355646341864"
     },
     "user_tz": -120
    },
    "id": "5nUAE_th2aTY",
    "outputId": "51d558d9-74bb-4fc9-9528-72389ef5f462"
   },
   "outputs": [
    {
     "data": {
      "text/plain": [
       "['Patatas', 12, 'Madrid', 20]"
      ]
     },
     "execution_count": 22,
     "metadata": {
      "tags": []
     },
     "output_type": "execute_result"
    }
   ],
   "source": [
    "lista_ejemplo = ['Patatas' , 15.20 , 'Madrid' , 20]\n",
    "lista_ejemplo [1] = 12\n",
    "lista_ejemplo"
   ]
  },
  {
   "cell_type": "code",
   "execution_count": 23,
   "metadata": {
    "colab": {
     "base_uri": "https://localhost:8080/"
    },
    "executionInfo": {
     "elapsed": 502,
     "status": "ok",
     "timestamp": 1620466204121,
     "user": {
      "displayName": "Machine Learning",
      "photoUrl": "https://lh3.googleusercontent.com/a-/AOh14GhwBRPV9dlAQMjYJcrnyebdRqxGjgfWs74B3NV3=s64",
      "userId": "05609927355646341864"
     },
     "user_tz": -120
    },
    "id": "MSfaPrqd2aTY",
    "outputId": "0fc5ad08-1875-489b-ad26-a95dc2e97d84"
   },
   "outputs": [
    {
     "data": {
      "text/plain": [
       "['Patatas', 12, 'Madrid', 20, 'Nuevo Dato']"
      ]
     },
     "execution_count": 23,
     "metadata": {
      "tags": []
     },
     "output_type": "execute_result"
    }
   ],
   "source": [
    "lista_ejemplo.append ('Nuevo Dato')\n",
    "lista_ejemplo"
   ]
  },
  {
   "cell_type": "markdown",
   "metadata": {
    "id": "vnHBBNfj2aTY"
   },
   "source": [
    "### Diccionarios\n",
    "Mientras que a las listas y tuplas se accede exclusivamente por un número de índice, los diccionarios permiten utilizar una clave para declarar y acceder a un valor."
   ]
  },
  {
   "cell_type": "code",
   "execution_count": null,
   "metadata": {
    "colab": {
     "base_uri": "https://localhost:8080/"
    },
    "executionInfo": {
     "elapsed": 678,
     "status": "ok",
     "timestamp": 1620408181819,
     "user": {
      "displayName": "Machine Learning",
      "photoUrl": "https://lh3.googleusercontent.com/a-/AOh14GhwBRPV9dlAQMjYJcrnyebdRqxGjgfWs74B3NV3=s64",
      "userId": "05609927355646341864"
     },
     "user_tz": -120
    },
    "id": "Oxiiathh2aTZ",
    "outputId": "491cab6b-6a03-4e71-9c7d-8bd4e311db7b"
   },
   "outputs": [
    {
     "data": {
      "text/plain": [
       "15.2"
      ]
     },
     "execution_count": 16,
     "metadata": {
      "tags": []
     },
     "output_type": "execute_result"
    }
   ],
   "source": [
    "diccionario_ejemplo = {'Producto':'Patatas' , 'Importe':15.2 , 'Ubicacion':'Madrid' , 'Unidades':20}\n",
    "diccionario_ejemplo ['Importe']"
   ]
  },
  {
   "cell_type": "markdown",
   "metadata": {
    "id": "asD-6HE82aTZ"
   },
   "source": [
    "## Identación\n",
    "\n",
    "La Identación en un lenguaje de programación es como la sangría en los textos. En el caso de Python la identación es obligatoria para marcar la estructura de control y ejecución de nuestro código. En el PEP8, se establece que 4 espacios en blanco (lo que tiene por defecto una tabulación), establecen la estructura de control. \n",
    "\n",
    "Por lo tanto, una estructura de control (definición de función, bucles, etc) se define:\n",
    "\n",
    "inicio_de_la_estructura:\n",
    "    expresiones_cuerpo_estructura\n"
   ]
  },
  {
   "cell_type": "markdown",
   "metadata": {
    "id": "2cTGyJ372aTZ"
   },
   "source": [
    "## Estructuras de Control de Flujo\n",
    "\n",
    "### Control de Flujo Condicional\n"
   ]
  },
  {
   "cell_type": "code",
   "execution_count": null,
   "metadata": {
    "id": "n9qQjhVFUozD"
   },
   "outputs": [],
   "source": [
    "stock = 22\n",
    "if stock < 2 :\n",
    "  print(\"Hola\")\n",
    "  print(\"¿Qué tal\")\n"
   ]
  },
  {
   "cell_type": "code",
   "execution_count": 24,
   "metadata": {
    "colab": {
     "base_uri": "https://localhost:8080/"
    },
    "executionInfo": {
     "elapsed": 510,
     "status": "ok",
     "timestamp": 1620466478084,
     "user": {
      "displayName": "Machine Learning",
      "photoUrl": "https://lh3.googleusercontent.com/a-/AOh14GhwBRPV9dlAQMjYJcrnyebdRqxGjgfWs74B3NV3=s64",
      "userId": "05609927355646341864"
     },
     "user_tz": -120
    },
    "id": "2lGo3_b62aTa",
    "outputId": "44159c06-9347-44d8-ffae-f11a7d323020"
   },
   "outputs": [
    {
     "name": "stdout",
     "output_type": "stream",
     "text": [
      "Pedido OK\n"
     ]
    }
   ],
   "source": [
    "stock=22\n",
    "if stock < 2 :\n",
    "    print ('Realizar Pedido')\n",
    "elif stock == 1:\n",
    "    print ('PEDIDO URGENTE')\n",
    "else:\n",
    "    print ('Pedido OK')\n"
   ]
  },
  {
   "cell_type": "markdown",
   "metadata": {
    "id": "Rcvf9g9c2aTa"
   },
   "source": [
    "### Estructuras de Control Iterativas\n",
    "\n",
    "También llamados bucles. En Python disponemos de *for* y *while*\n"
   ]
  },
  {
   "cell_type": "code",
   "execution_count": 25,
   "metadata": {
    "colab": {
     "base_uri": "https://localhost:8080/"
    },
    "executionInfo": {
     "elapsed": 615,
     "status": "ok",
     "timestamp": 1620466494488,
     "user": {
      "displayName": "Machine Learning",
      "photoUrl": "https://lh3.googleusercontent.com/a-/AOh14GhwBRPV9dlAQMjYJcrnyebdRqxGjgfWs74B3NV3=s64",
      "userId": "05609927355646341864"
     },
     "user_tz": -120
    },
    "id": "ETRVkpsB2aTa",
    "outputId": "47eecf67-f1c4-4d92-d19f-73ef702a412c"
   },
   "outputs": [
    {
     "name": "stdout",
     "output_type": "stream",
     "text": [
      "Roberto\n",
      "Rocio\n",
      "Paula\n",
      "Manuel\n"
     ]
    }
   ],
   "source": [
    "lista_ejemplo = ['Roberto' , 'Rocio' , 'Paula' , 'Manuel']\n",
    "for nombre in lista_ejemplo:\n",
    "    print(nombre)\n"
   ]
  },
  {
   "cell_type": "code",
   "execution_count": 26,
   "metadata": {
    "colab": {
     "base_uri": "https://localhost:8080/"
    },
    "executionInfo": {
     "elapsed": 604,
     "status": "ok",
     "timestamp": 1620466542481,
     "user": {
      "displayName": "Machine Learning",
      "photoUrl": "https://lh3.googleusercontent.com/a-/AOh14GhwBRPV9dlAQMjYJcrnyebdRqxGjgfWs74B3NV3=s64",
      "userId": "05609927355646341864"
     },
     "user_tz": -120
    },
    "id": "BnZk8Ij42aTa",
    "outputId": "8654ad86-3c8d-4be2-d9ec-40cf83b04a12"
   },
   "outputs": [
    {
     "name": "stdout",
     "output_type": "stream",
     "text": [
      "1\n",
      "2\n",
      "3\n",
      "4\n",
      "5\n",
      "6\n",
      "7\n",
      "8\n",
      "9\n"
     ]
    }
   ],
   "source": [
    "for numero in range(1,10):\n",
    "    print(numero)"
   ]
  },
  {
   "cell_type": "code",
   "execution_count": 28,
   "metadata": {
    "colab": {
     "base_uri": "https://localhost:8080/"
    },
    "executionInfo": {
     "elapsed": 491,
     "status": "ok",
     "timestamp": 1620466610799,
     "user": {
      "displayName": "Machine Learning",
      "photoUrl": "https://lh3.googleusercontent.com/a-/AOh14GhwBRPV9dlAQMjYJcrnyebdRqxGjgfWs74B3NV3=s64",
      "userId": "05609927355646341864"
     },
     "user_tz": -120
    },
    "id": "ZsHZQEDH2aTa",
    "outputId": "a82fee93-bb82-4b30-a2d2-c570c87d0aba"
   },
   "outputs": [
    {
     "name": "stdout",
     "output_type": "stream",
     "text": [
      "0\n",
      "1\n",
      "2\n",
      "3\n",
      "4\n",
      "5\n",
      "6\n",
      "7\n",
      "8\n",
      "9\n"
     ]
    }
   ],
   "source": [
    "i = 0\n",
    "while i < 10:\n",
    "    print (i)\n",
    "    i += 1 "
   ]
  },
  {
   "cell_type": "code",
   "execution_count": 29,
   "metadata": {
    "executionInfo": {
     "elapsed": 505,
     "status": "ok",
     "timestamp": 1620466618324,
     "user": {
      "displayName": "Machine Learning",
      "photoUrl": "https://lh3.googleusercontent.com/a-/AOh14GhwBRPV9dlAQMjYJcrnyebdRqxGjgfWs74B3NV3=s64",
      "userId": "05609927355646341864"
     },
     "user_tz": -120
    },
    "id": "KIPu2uWq2aTb"
   },
   "outputs": [],
   "source": [
    "while True:\n",
    "    nombre = \"Antonio\"\n",
    "    if nombre:\n",
    "        break"
   ]
  },
  {
   "cell_type": "markdown",
   "metadata": {
    "id": "2-JMy63b2aTb"
   },
   "source": [
    "## Gestión de Excepciones\n",
    "\n",
    "¿Cómo se manejan las excepciones? La palabra try es clave para la solución.\n",
    "\n",
    "Además, también es una palabra reservada.\n",
    "\n",
    "La receta para el éxito es la siguiente:\n",
    "\n",
    "- Primero, se debe intentar (try) hacer algo.\n",
    "- Después, tienes que comprobar si todo salió bien\n",
    "\n"
   ]
  },
  {
   "cell_type": "code",
   "execution_count": 30,
   "metadata": {
    "colab": {
     "base_uri": "https://localhost:8080/"
    },
    "executionInfo": {
     "elapsed": 69220,
     "status": "ok",
     "timestamp": 1620466790011,
     "user": {
      "displayName": "Machine Learning",
      "photoUrl": "https://lh3.googleusercontent.com/a-/AOh14GhwBRPV9dlAQMjYJcrnyebdRqxGjgfWs74B3NV3=s64",
      "userId": "05609927355646341864"
     },
     "user_tz": -120
    },
    "id": "tcv5C6Sx2aTb",
    "outputId": "ea3f6d82-eeb0-4895-9d8a-4cdba8d70678"
   },
   "outputs": [
    {
     "name": "stdout",
     "output_type": "stream",
     "text": [
      "Introduce el primer numero: 8\n",
      "Introduce el segundo numero: 0\n",
      "Esta operacion no puede ser realizada.\n",
      "FIN.\n"
     ]
    }
   ],
   "source": [
    "primerNumero = int(input(\"Introduce el primer numero: \"))\n",
    "segundoNumero = int(input(\"Introduce el segundo numero: \"))\n",
    "\n",
    "try:\n",
    "    print(primerNumero / segundoNumero)\n",
    "except:\n",
    "    print(\"Esta operacion no puede ser realizada.\")\n",
    "print(\"FIN.\")"
   ]
  },
  {
   "cell_type": "markdown",
   "metadata": {
    "id": "_WLAfAan2aTc"
   },
   "source": [
    "## Funciones\n",
    "Una función, nos permite definir un bloque de código que reutilizaremos en diferentes partes de nuestro programa. Nos permiten por lo tanto crear soluciones más modulares. Para poder definir nuestras propias funciones en Python, utilizamos la palabra clave def. "
   ]
  },
  {
   "cell_type": "code",
   "execution_count": 9,
   "metadata": {},
   "outputs": [
    {
     "name": "stdout",
     "output_type": "stream",
     "text": [
      "Hola\n"
     ]
    }
   ],
   "source": [
    "# función sin parámetros\n",
    "def saludar():\n",
    "    print(\"Hola\")\n",
    "\n",
    "saludar() # Llamamos a la función"
   ]
  },
  {
   "cell_type": "code",
   "execution_count": 10,
   "metadata": {},
   "outputs": [
    {
     "name": "stdout",
     "output_type": "stream",
     "text": [
      "Hola Antonio\n"
     ]
    }
   ],
   "source": [
    "#función con parámetros\n",
    "def saludar(nombre):\n",
    "    print(f\"Hola {nombre}\")\n",
    "\n",
    "saludar(\"Antonio\")"
   ]
  },
  {
   "cell_type": "code",
   "execution_count": 11,
   "metadata": {},
   "outputs": [],
   "source": [
    "# Función con parámetros, tipos de datos, valor predeterminado y retorno. Documentada\n",
    "\n",
    "def test (v1:int, v2:int = 0) -> int:\n",
    "    \"\"\"\n",
    "    Retorna la suma de dos números enteros.\n",
    "\n",
    "    :param v1: Primer número entero.\n",
    "    :param v2: Segundo número entero.Por defecto es 0.\n",
    "    :return: La suma de los dos enteros.\n",
    "    \"\"\"\n",
    "    return (v1 + v2)"
   ]
  },
  {
   "cell_type": "markdown",
   "metadata": {},
   "source": [
    "## Funciones lambda\n",
    "Son funciones sencilla, que definimos \"al vuelo\" sin declararlas, utilizando la palabra clave lambda. Son una forma concisa de definir una función en una sola línea. A diferencia de las funciones normales definidas con def, las funciones lambda no requieren un nombre, sino que se “asignan” o pasan directamente donde se necesiten.\n",
    "\n",
    "lambda argumentos: expresión"
   ]
  },
  {
   "cell_type": "code",
   "execution_count": 12,
   "metadata": {},
   "outputs": [
    {
     "name": "stdout",
     "output_type": "stream",
     "text": [
      "8\n"
     ]
    }
   ],
   "source": [
    "# Función lambda para sumar dos números\n",
    "suma = lambda x, y: x + y\n",
    "\n",
    "resultado = suma(5, 3)\n",
    "print(resultado)  # 8\n"
   ]
  }
 ],
 "metadata": {
  "colab": {
   "collapsed_sections": [],
   "name": "01_3_Elementos del Lenguaje.ipynb",
   "provenance": [],
   "toc_visible": true
  },
  "kernelspec": {
   "display_name": "Python 3",
   "language": "python",
   "name": "python3"
  },
  "language_info": {
   "codemirror_mode": {
    "name": "ipython",
    "version": 3
   },
   "file_extension": ".py",
   "mimetype": "text/x-python",
   "name": "python",
   "nbconvert_exporter": "python",
   "pygments_lexer": "ipython3",
   "version": "3.12.6"
  },
  "metadata": {
   "interpreter": {
    "hash": "18f07aa1f218bd815af44c10d679f476605f722da72676851e9ef086401d84b6"
   }
  },
  "orig_nbformat": 2
 },
 "nbformat": 4,
 "nbformat_minor": 0
}
