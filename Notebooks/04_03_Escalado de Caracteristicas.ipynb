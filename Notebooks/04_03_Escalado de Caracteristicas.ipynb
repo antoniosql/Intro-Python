{
 "cells": [
  {
   "cell_type": "markdown",
   "metadata": {
    "azdata_cell_guid": "6ff08df4-5bc0-47c1-ba66-20206ccc00b1",
    "id": "e_7lSoH6-JEe"
   },
   "source": [
    "![Dataging](https://raw.githubusercontent.com/dataging/public-resources/61263724aea5476ba5ebf38478beada519091957/logodataging.png)"
   ]
  },
  {
   "cell_type": "markdown",
   "metadata": {
    "azdata_cell_guid": "023fc82f-0fcd-4826-a065-93ab4945fb60",
    "id": "lMj-AMuwwXm_"
   },
   "source": [
    "# Escalado de Características"
   ]
  },
  {
   "cell_type": "code",
   "execution_count": 1,
   "metadata": {
    "azdata_cell_guid": "65afc185-cd26-4814-8eda-5236c18bbb92",
    "executionInfo": {
     "elapsed": 3024,
     "status": "ok",
     "timestamp": 1621071772638,
     "user": {
      "displayName": "Machine Learning",
      "photoUrl": "https://lh3.googleusercontent.com/a-/AOh14GhwBRPV9dlAQMjYJcrnyebdRqxGjgfWs74B3NV3=s64",
      "userId": "05609927355646341864"
     },
     "user_tz": -120
    },
    "id": "JcxP4Z9GwSad"
   },
   "outputs": [],
   "source": [
    "import pandas as pd\n",
    "import os\n",
    "from dotenv import load_dotenv"
   ]
  },
  {
   "cell_type": "code",
   "execution_count": 3,
   "metadata": {
    "colab": {
     "base_uri": "https://localhost:8080/"
    },
    "executionInfo": {
     "elapsed": 25576,
     "status": "ok",
     "timestamp": 1621071795203,
     "user": {
      "displayName": "Machine Learning",
      "photoUrl": "https://lh3.googleusercontent.com/a-/AOh14GhwBRPV9dlAQMjYJcrnyebdRqxGjgfWs74B3NV3=s64",
      "userId": "05609927355646341864"
     },
     "user_tz": -120
    },
    "id": "vh6nSP8r-NPq",
    "outputId": "c941de53-1c52-477f-9be8-237e3f8c8d71"
   },
   "outputs": [],
   "source": [
    "load_dotenv() #lee las variables de entorno del archivo .env\n",
    "\n",
    "servidor = os.getenv(\"SERVIDOR_MYSQL\")\n",
    "usuario = os.getenv(\"USUARIO_MYSQL\")\n",
    "password = os.getenv(\"PASSWORD_MYSQL\")\n",
    "\n",
    "import mysql.connector\n",
    "try:\n",
    "    cnx = mysql.connector.connect(user=usuario, password=password,\n",
    "                              host=servidor, database='sakila') # Definimos la cadena de conexión de la base de datos e intentamos conectar\n",
    "    cursor=cnx.cursor() #Creamos un cursor para poder ejecutar consultas    \n",
    "except :\n",
    "    print(\"Error conectando a la base de datos \")"
   ]
  },
  {
   "cell_type": "code",
   "execution_count": 4,
   "metadata": {
    "colab": {
     "base_uri": "https://localhost:8080/",
     "height": 308
    },
    "executionInfo": {
     "elapsed": 2618,
     "status": "ok",
     "timestamp": 1621071803721,
     "user": {
      "displayName": "Machine Learning",
      "photoUrl": "https://lh3.googleusercontent.com/a-/AOh14GhwBRPV9dlAQMjYJcrnyebdRqxGjgfWs74B3NV3=s64",
      "userId": "05609927355646341864"
     },
     "user_tz": -120
    },
    "id": "1wJXuWR1-JEm",
    "outputId": "4d0d85c2-b393-4bcf-cac1-eff4aff8657b"
   },
   "outputs": [
    {
     "name": "stderr",
     "output_type": "stream",
     "text": [
      "C:\\Users\\adminsql\\AppData\\Local\\Temp\\ipykernel_4624\\2724526907.py:2: UserWarning: pandas only supports SQLAlchemy connectable (engine/connection) or database string URI or sqlite3 DBAPI2 connection. Other DBAPI2 objects are not tested. Please consider using SQLAlchemy.\n",
      "  df = pd.read_sql(query,cnx)\n"
     ]
    },
    {
     "data": {
      "text/html": [
       "<div>\n",
       "<style scoped>\n",
       "    .dataframe tbody tr th:only-of-type {\n",
       "        vertical-align: middle;\n",
       "    }\n",
       "\n",
       "    .dataframe tbody tr th {\n",
       "        vertical-align: top;\n",
       "    }\n",
       "\n",
       "    .dataframe thead th {\n",
       "        text-align: right;\n",
       "    }\n",
       "</style>\n",
       "<table border=\"1\" class=\"dataframe\">\n",
       "  <thead>\n",
       "    <tr style=\"text-align: right;\">\n",
       "      <th></th>\n",
       "      <th>film_id</th>\n",
       "      <th>title</th>\n",
       "      <th>description</th>\n",
       "      <th>release_year</th>\n",
       "      <th>language_id</th>\n",
       "      <th>original_language_id</th>\n",
       "      <th>rental_duration</th>\n",
       "      <th>rental_rate</th>\n",
       "      <th>length</th>\n",
       "      <th>replacement_cost</th>\n",
       "      <th>rating</th>\n",
       "      <th>special_features</th>\n",
       "      <th>last_update</th>\n",
       "    </tr>\n",
       "  </thead>\n",
       "  <tbody>\n",
       "    <tr>\n",
       "      <th>0</th>\n",
       "      <td>1</td>\n",
       "      <td>ACADEMY DINOSAUR</td>\n",
       "      <td>A Epic Drama of a Feminist And a Mad Scientist...</td>\n",
       "      <td>2006</td>\n",
       "      <td>1</td>\n",
       "      <td>None</td>\n",
       "      <td>6</td>\n",
       "      <td>0.99</td>\n",
       "      <td>86</td>\n",
       "      <td>20.99</td>\n",
       "      <td>PG</td>\n",
       "      <td>{Deleted Scenes, Behind the Scenes}</td>\n",
       "      <td>2006-02-15 06:03:42</td>\n",
       "    </tr>\n",
       "    <tr>\n",
       "      <th>1</th>\n",
       "      <td>2</td>\n",
       "      <td>ACE GOLDFINGER</td>\n",
       "      <td>A Astounding Epistle of a Database Administrat...</td>\n",
       "      <td>2006</td>\n",
       "      <td>1</td>\n",
       "      <td>None</td>\n",
       "      <td>3</td>\n",
       "      <td>4.99</td>\n",
       "      <td>48</td>\n",
       "      <td>12.99</td>\n",
       "      <td>G</td>\n",
       "      <td>{Deleted Scenes, Trailers}</td>\n",
       "      <td>2006-02-15 06:03:42</td>\n",
       "    </tr>\n",
       "    <tr>\n",
       "      <th>2</th>\n",
       "      <td>3</td>\n",
       "      <td>ADAPTATION HOLES</td>\n",
       "      <td>A Astounding Reflection of a Lumberjack And a ...</td>\n",
       "      <td>2006</td>\n",
       "      <td>1</td>\n",
       "      <td>None</td>\n",
       "      <td>7</td>\n",
       "      <td>2.99</td>\n",
       "      <td>50</td>\n",
       "      <td>18.99</td>\n",
       "      <td>NC-17</td>\n",
       "      <td>{Deleted Scenes, Trailers}</td>\n",
       "      <td>2006-02-15 06:03:42</td>\n",
       "    </tr>\n",
       "    <tr>\n",
       "      <th>3</th>\n",
       "      <td>4</td>\n",
       "      <td>AFFAIR PREJUDICE</td>\n",
       "      <td>A Fanciful Documentary of a Frisbee And a Lumb...</td>\n",
       "      <td>2006</td>\n",
       "      <td>1</td>\n",
       "      <td>None</td>\n",
       "      <td>5</td>\n",
       "      <td>2.99</td>\n",
       "      <td>117</td>\n",
       "      <td>26.99</td>\n",
       "      <td>G</td>\n",
       "      <td>{Behind the Scenes, Commentaries}</td>\n",
       "      <td>2006-02-15 06:03:42</td>\n",
       "    </tr>\n",
       "    <tr>\n",
       "      <th>4</th>\n",
       "      <td>5</td>\n",
       "      <td>AFRICAN EGG</td>\n",
       "      <td>A Fast-Paced Documentary of a Pastry Chef And ...</td>\n",
       "      <td>2006</td>\n",
       "      <td>1</td>\n",
       "      <td>None</td>\n",
       "      <td>6</td>\n",
       "      <td>2.99</td>\n",
       "      <td>130</td>\n",
       "      <td>22.99</td>\n",
       "      <td>G</td>\n",
       "      <td>{Deleted Scenes}</td>\n",
       "      <td>2006-02-15 06:03:42</td>\n",
       "    </tr>\n",
       "  </tbody>\n",
       "</table>\n",
       "</div>"
      ],
      "text/plain": [
       "   film_id             title  \\\n",
       "0        1  ACADEMY DINOSAUR   \n",
       "1        2    ACE GOLDFINGER   \n",
       "2        3  ADAPTATION HOLES   \n",
       "3        4  AFFAIR PREJUDICE   \n",
       "4        5       AFRICAN EGG   \n",
       "\n",
       "                                         description  release_year  \\\n",
       "0  A Epic Drama of a Feminist And a Mad Scientist...          2006   \n",
       "1  A Astounding Epistle of a Database Administrat...          2006   \n",
       "2  A Astounding Reflection of a Lumberjack And a ...          2006   \n",
       "3  A Fanciful Documentary of a Frisbee And a Lumb...          2006   \n",
       "4  A Fast-Paced Documentary of a Pastry Chef And ...          2006   \n",
       "\n",
       "   language_id original_language_id  rental_duration  rental_rate  length  \\\n",
       "0            1                 None                6         0.99      86   \n",
       "1            1                 None                3         4.99      48   \n",
       "2            1                 None                7         2.99      50   \n",
       "3            1                 None                5         2.99     117   \n",
       "4            1                 None                6         2.99     130   \n",
       "\n",
       "   replacement_cost rating                     special_features  \\\n",
       "0             20.99     PG  {Deleted Scenes, Behind the Scenes}   \n",
       "1             12.99      G           {Deleted Scenes, Trailers}   \n",
       "2             18.99  NC-17           {Deleted Scenes, Trailers}   \n",
       "3             26.99      G    {Behind the Scenes, Commentaries}   \n",
       "4             22.99      G                     {Deleted Scenes}   \n",
       "\n",
       "          last_update  \n",
       "0 2006-02-15 06:03:42  \n",
       "1 2006-02-15 06:03:42  \n",
       "2 2006-02-15 06:03:42  \n",
       "3 2006-02-15 06:03:42  \n",
       "4 2006-02-15 06:03:42  "
      ]
     },
     "execution_count": 4,
     "metadata": {},
     "output_type": "execute_result"
    }
   ],
   "source": [
    "query = \"SELECT * FROM film\"\n",
    "df = pd.read_sql(query,cnx)\n",
    "df.head()"
   ]
  },
  {
   "cell_type": "code",
   "execution_count": 6,
   "metadata": {
    "executionInfo": {
     "elapsed": 1400,
     "status": "ok",
     "timestamp": 1621071871873,
     "user": {
      "displayName": "Machine Learning",
      "photoUrl": "https://lh3.googleusercontent.com/a-/AOh14GhwBRPV9dlAQMjYJcrnyebdRqxGjgfWs74B3NV3=s64",
      "userId": "05609927355646341864"
     },
     "user_tz": -120
    },
    "id": "r5wgkMja-JEn"
   },
   "outputs": [],
   "source": [
    "caracteristicas =[\"rental_rate\",\"length\"]\n",
    "from sklearn.preprocessing import StandardScaler\n",
    "scaler = StandardScaler()\n",
    "X = scaler.fit_transform(df[caracteristicas])"
   ]
  },
  {
   "cell_type": "code",
   "execution_count": 7,
   "metadata": {
    "colab": {
     "base_uri": "https://localhost:8080/"
    },
    "executionInfo": {
     "elapsed": 550,
     "status": "ok",
     "timestamp": 1621071873563,
     "user": {
      "displayName": "Machine Learning",
      "photoUrl": "https://lh3.googleusercontent.com/a-/AOh14GhwBRPV9dlAQMjYJcrnyebdRqxGjgfWs74B3NV3=s64",
      "userId": "05609927355646341864"
     },
     "user_tz": -120
    },
    "id": "p8n8rfRy-JEn",
    "outputId": "819064ea-b3b7-419d-fecb-de34125125a9"
   },
   "outputs": [
    {
     "data": {
      "text/plain": [
       "array([[-1.20930755, -0.72444483],\n",
       "       [ 1.2214614 , -1.66489657],\n",
       "       [ 0.00607692, -1.61539911],\n",
       "       ...,\n",
       "       [-1.20930755, -0.25421896],\n",
       "       [ 0.00607692, -0.35321388],\n",
       "       [ 1.2214614 , -1.61539911]], shape=(1000, 2))"
      ]
     },
     "execution_count": 7,
     "metadata": {},
     "output_type": "execute_result"
    }
   ],
   "source": [
    "X"
   ]
  },
  {
   "cell_type": "code",
   "execution_count": null,
   "metadata": {
    "id": "BrmodB96-JEn"
   },
   "outputs": [],
   "source": []
  }
 ],
 "metadata": {
  "colab": {
   "name": "03_04_Escalado de Caracteristicas.ipynb",
   "provenance": [],
   "toc_visible": true
  },
  "kernelspec": {
   "display_name": "entornoIFFE",
   "language": "python",
   "name": "python3"
  },
  "language_info": {
   "codemirror_mode": {
    "name": "ipython",
    "version": 3
   },
   "file_extension": ".py",
   "mimetype": "text/x-python",
   "name": "python",
   "nbconvert_exporter": "python",
   "pygments_lexer": "ipython3",
   "version": "3.13.1"
  }
 },
 "nbformat": 4,
 "nbformat_minor": 0
}
